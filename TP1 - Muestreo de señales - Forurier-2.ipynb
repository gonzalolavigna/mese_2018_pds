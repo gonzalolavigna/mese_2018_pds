{
 "cells": [
  {
   "cell_type": "markdown",
   "metadata": {},
   "source": [
    "<img src=\"./fiuba.jpg\" align=\"right\" width=\"150\" /> \n",
    "#### Procesamiento Digital de Señales\n",
    "\n",
    "# Trabajo Práctico 1\n",
    "#### Nombre y Apellido\n",
    "\n",
    "***\n",
    "## Muestreo de señales - Fourier\n"
   ]
  },
  {
   "cell_type": "markdown",
   "metadata": {},
   "source": [
    "<div class=\"alert alert-block alert-info\">\n",
    "<b>1)</b> Se busca realizar una librería en Python que nos permita obtener $N$ muestras de las siguientes señales de período $T_0=1/f_0$, muestreadas a una frecuencia $f_s$ :\n",
    "\n",
    "</div>"
   ]
  },
  {
   "cell_type": "markdown",
   "metadata": {
    "solution": "shown"
   },
   "source": [
    "\n",
    "+ **Senoidal**\n",
    "\n",
    "> $s(k)=A_0.sin(2\\pi.k.\\frac{ f_0}{f_s} + \\phi_0),\\space\\space \\forall k \\in \\Bbb{R} \\wedge k \\in (0, N-1)$\n",
    "\n",
    "+ __Ruido__ incorrelado de distribución Gaussiana y parámetros $\\mu$ y $\\sigma^2$\n",
    "\n",
    "***\n",
    "\n",
    "+ (Opcional) __Cuadrada__ con ciclo de actividad $d \\in (0,1)$\n",
    "\n",
    "> $s(k)=A_0,\\space\\space \\forall k \\in (0, N.d ]$ \n",
    "\n",
    "> $s(k)=-A_0,\\space \\forall k \\in (N.d, N-1)$\n",
    "\n",
    "+ (Opcional) __Triangular__ con punto de simetría $d \\in (0,1)$ y coeficientes $a_{ij} \\in \\Bbb{R}$\n",
    "\n",
    "> $s(k)=a_{11}.k/f_s+a_{12},\\space\\space \\forall k \\in (0, N.d ]$ \n",
    "\n",
    "> $s(k)=a_{21}.k/f_s+a_{22},\\space \\forall k \\in (N.d, N-1)$\n"
   ]
  },
  {
   "cell_type": "markdown",
   "metadata": {},
   "source": [
    "Es decir que se podría invocar la señal que genere la senoidal de la siguiente manera:\n"
   ]
  },
  {
   "cell_type": "code",
   "execution_count": 1,
   "metadata": {},
   "outputs": [],
   "source": [
    "\n",
    "def generador_senoidal (fs, f0, N, a0=1, p0=0):\n",
    "    \"\"\"     \n",
    "    brief:  Generador de señales senoidal, con argumentos\n",
    "    \n",
    "    fs:     frecuencia de muestreo de la señal [Hz]\n",
    "    N:      cantidad de muestras de la señal a generar\n",
    "    f0:     frecuencia de la senoidal [Hz]\n",
    "    a0:     amplitud pico de la señal [V]\n",
    "    p0:     fase de la señal sinusoidal [rad]\n",
    "    \n",
    "    como resultado la señal devuelve:\n",
    "    \n",
    "    signal: senoidal evaluada en cada instante \n",
    "    tt:     base de tiempo de la señal\n",
    "    \"\"\"    \n",
    "\n",
    "    # comienzo de la función\n",
    "    # tiempo de muestreo    \n",
    "    ts = 1/fs \n",
    "    #Genero el espacio para poder tener el espacio temporal que va de 0 a N-1\n",
    "    #Flatten convierte a un array de 1 dimensión.\n",
    "    tt = np.linspace(0, (N-1)*ts, N).flatten()\n",
    "    # Concatenación de matrices:\n",
    "    # guardaremos las señales creadas al ir poblando la siguiente matriz vacía\n",
    "    signal = np.array([], dtype=np.float).reshape(N,0)        \n",
    "    #Genero la senoidal con los parametros de entrada.\n",
    "    signal = a0 * np.sin(2 * np.pi * f0 * tt + p0);\n",
    "    \n",
    "    return tt, signal\n",
    "    # fin de la función\n",
    "\n",
    "def generador_ruido(fs,N,media = 0, varianza = 1):\n",
    "    \"\"\"     \n",
    "    brief:  Generador de señales de ruido, con argumentos\n",
    "    \n",
    "    fs:       Frecuencia de muestreo de la señal [Hz]\n",
    "    N:        Cantidad de muestras de la señal a generar\n",
    "    media:    Media del ruido gaussiano\n",
    "    varianza: Varianza del ruido gaussiano\n",
    "    \n",
    "    como resultado la señal devuelve:\n",
    "    \n",
    "    signal: señal de ruido evaluada en cada instante\n",
    "    tt:     base de tiempo de la señal\n",
    "    \"\"\"   \n",
    "    if(varianza <= 0.0 ):\n",
    "        raise Exception('Varianza debe ser mayor estricto que 0. El valor fue:{}'.format(varianza))\n",
    "    \n",
    "    # tiempo de muestreo\n",
    "    ts = 1/fs     \n",
    "    #Genero el espacio para poder tener el espacio temporal que va de 0 a N-1\n",
    "    #Flatten convierte a un array de 1 dimensión.\n",
    "    tt = np.linspace(0, (N-1)*ts, N).flatten()\n",
    "    \n",
    "    # Concatenación de matrices:\n",
    "    # guardaremos las señales creadas al ir poblando la siguiente matriz vacía\n",
    "    signal = np.array([], dtype=np.float).reshape(N,0)\n",
    "    #Generar señal de media X y desvio estandar sacada de numpy.\n",
    "    signal = np.random.normal(media,np.sqrt(varianza),N);\n",
    "        \n",
    "    return tt,signal\n",
    "\n",
    "def generador_cuadrada (fs, f0, N, a0=1, duty = 0.5):\n",
    "    \"\"\"     \n",
    "    brief:  Generador de señal cuadrada\n",
    "    \n",
    "    fs:     frecuencia de muestreo de la señal [Hz]\n",
    "    f0:     frecuencia de la cuadrada [Hz]\n",
    "    N:      cantidad de muestras de la señal a generar\n",
    "    a0:     amplitud pico de la señal [V]\n",
    "    duty:   Ciclo de trabajo[%] de la señal cuadrada a generar\n",
    "    \n",
    "    como resultado la señal devuelve:\n",
    "    \n",
    "    signal: senoidal evaluada en cada instante \n",
    "    tt:     base de tiempo de la señal\n",
    "    \"\"\" \n",
    "    #Chequeo el duty\n",
    "    if(duty > 1.0 or duty < 0.0):\n",
    "        raise Exception('duty debe estar en 0.0 y 1.0. El valor de duty fue: {}'.format(duty))    \n",
    "    # tiempo de muestreo \n",
    "    ts = 1/fs        \n",
    "    #Flatten convierte a un array de 1 dimensión.\n",
    "    tt = np.linspace(0, (N-1)*ts, N).flatten()\n",
    "    \n",
    "    # Concatenación de matrices:\n",
    "    # guardaremos las señales creadas al ir poblando la siguiente matriz vacía\n",
    "    yy = np.array([], dtype=np.float).reshape(N,0)\n",
    "    \n",
    "    #Genero la cuadrada\n",
    "    yy  = a0 * signal.square(2 * np.pi * f0 * tt , duty)\n",
    "   \n",
    "    return tt,yy\n",
    "\n",
    "\n",
    "def generador_triangular (fs, f0, N, a0=1, sym = 0.5):\n",
    "    \"\"\"     \n",
    "    brief:  Generador de señales triangular, con argumentos\n",
    "    \n",
    "    fs:     frecuencia de muestreo de la señal [Hz]\n",
    "    f0:     frecuencia de la triangular [Hz]\n",
    "    N:      cantidad de muestras de la señal a generar\n",
    "    a0:     amplitud pico de la señal [V]\n",
    "    p0:     Simetria de la triangular [%]\n",
    "    \n",
    "    como resultado la señal devuelve:\n",
    "    \n",
    "    signal: señal triangular evaluada en cada instante \n",
    "    tt:     base de tiempo de la señal\n",
    "    \"\"\"   \n",
    "    \n",
    "    #Chequeo la simetria\n",
    "    if(sym > 1.0 or sym < 0.0):\n",
    "        raise Exception('Simetria debe estar en 0.0 y 1.0. El valor de duty fue: {}'.format(sym))    \n",
    "    # tiempo de muestreo        \n",
    "    ts = 1/fs \n",
    "    #Genero el espacio para poder tener el espacio temporal que va de 0 a N-1\n",
    "    #Flatten convierte a un array de 1 dimensión.\n",
    "    tt = np.linspace(0, (N-1)*ts, N).flatten()\n",
    "    \n",
    "    # guardaremos las señales creadas al ir poblando la siguiente matriz vacía\n",
    "    yy = np.array([], dtype=np.float).reshape(N,0)\n",
    "    # Generamos la señal de diente de sierra\n",
    "    yy = signal.sawtooth(2*np.pi*f0*tt,sym)\n",
    "        \n",
    "    return tt,yy\n",
    "\n"
   ]
  },
  {
   "cell_type": "markdown",
   "metadata": {},
   "source": [
    "a) Genere las gráficas asociadas a las siguientes señales de ejemplo para corroborar el correcto funcionamiento de las funciones. Para la presentación de las mismas, tome como referencia la presentación de la siguiente señal respecto a:\n",
    "\n",
    "* etiquetas indicando cada eje con sus respectivas unidades\n",
    "* leyendas indicando cada trazo o color qué representa\n",
    "* título de la figura que explique lo que se pretende visualizar\n",
    "\n",
    "\n",
    "<img src=\"./fig_ejemplo.svg\" align=\"center\" width=\"100%\" /> \n",
    "<img src=\"./fig_ejemplo2.svg\" align=\"center\" width=\"70%\" /> "
   ]
  },
  {
   "cell_type": "code",
   "execution_count": 2,
   "metadata": {},
   "outputs": [],
   "source": [
    "import numpy as np\n",
    "import matplotlib as mpl\n",
    "import matplotlib.pyplot as plt\n",
    "\n",
    "# Insertar aquí el código para inicializar tu notebook\n",
    "########################################################\n",
    "#Necesario para generar señal triangular de diente de sierra y señal cuadrada con numpy\n",
    "from   scipy import signal\n",
    "import scipy.fftpack as sc\n"
   ]
  },
  {
   "cell_type": "code",
   "execution_count": 3,
   "metadata": {},
   "outputs": [],
   "source": [
    "# NO modifiques este bloque\n",
    "############################\n",
    "\n",
    "N  = 1000 # muestras\n",
    "fs = 1000 # Hz\n"
   ]
  },
  {
   "cell_type": "code",
   "execution_count": 4,
   "metadata": {},
   "outputs": [
    {
     "data": {
      "text/plain": [
       "Text(0, 0.5, 'Amplitud [V]')"
      ]
     },
     "execution_count": 4,
     "metadata": {},
     "output_type": "execute_result"
    },
    {
     "data": {
      "image/png": "[encoded data removed]",
      "text/plain": [
       "<Figure size 432x288 with 1 Axes>"
      ]
     },
     "metadata": {
      "needs_background": "light"
     },
     "output_type": "display_data"
    }
   ],
   "source": [
    "##################\n",
    "# a.1) Senoidal #\n",
    "#################\n",
    "\n",
    "a0 = 1 # Volts\n",
    "p0 = 0 # radianes\n",
    "f0 = 10   # Hz\n",
    "\n",
    "# Insertar aquí el código para generar y visualizar la señal\n",
    "##############################################################\n",
    "[tt,yy] = generador_senoidal(fs,f0,N,a0,p0)\n",
    "\n",
    "plt.plot(tt, yy)\n",
    "plt.title('Senoidal Amplitud:{} V Fase:{} radianes Frecuencia {}'.format(a0,p0,f0))\n",
    "plt.xlabel('tiempo [segundos]')\n",
    "plt.ylabel('Amplitud [V]')\n"
   ]
  },
  {
   "cell_type": "markdown",
   "metadata": {},
   "source": [
    "¿Podría inferir la frecuencia de la senoidal a.1 a partir de su representación temporal?\n"
   ]
  },
  {
   "cell_type": "markdown",
   "metadata": {},
   "source": [
    "<div class=\"alert alert-block alert-warning\">\n",
    "<b>Respuesta:</b> Se puede estimar la frecuencia de la senoidal calculando la distancia entre los maximos o los minimos, o multiplicando por 2 los cruces por cero.\n",
    "</div>"
   ]
  },
  {
   "cell_type": "code",
   "execution_count": 5,
   "metadata": {},
   "outputs": [
    {
     "data": {
      "text/plain": [
       "Text(0, 0.5, 'Amplitud [V]')"
      ]
     },
     "execution_count": 5,
     "metadata": {},
     "output_type": "execute_result"
    },
    {
     "data": {
      "image/png": "[encoded data removed]",
      "text/plain": [
       "<Figure size 432x288 with 1 Axes>"
      ]
     },
     "metadata": {
      "needs_background": "light"
     },
     "output_type": "display_data"
    }
   ],
   "source": [
    "##################\n",
    "# a.2) Senoidal #\n",
    "#################\n",
    "\n",
    "a0 = 1 # Volts\n",
    "p0 = 0 # radianes\n",
    "f0 = fs/2   # Hz\n",
    "\n",
    "# Insertar aquí el código para generar y visualizar la señal\n",
    "##############################################################\n",
    "[tt,yy] = generador_senoidal(fs,f0,N,a0,p0)\n",
    "\n",
    "plt.plot(tt, yy)\n",
    "plt.title('Senoidal Amplitud:{} V Fase:{} radianes Frecuencia {}'.format(a0,p0,f0))\n",
    "plt.xlabel('tiempo [segundos]')\n",
    "plt.ylabel('Amplitud [V]')\n"
   ]
  },
  {
   "cell_type": "code",
   "execution_count": 6,
   "metadata": {},
   "outputs": [
    {
     "data": {
      "text/plain": [
       "Text(0, 0.5, 'Amplitud [V]')"
      ]
     },
     "execution_count": 6,
     "metadata": {},
     "output_type": "execute_result"
    },
    {
     "data": {
      "image/png": "[encoded data removed]",
      "text/plain": [
       "<Figure size 432x288 with 1 Axes>"
      ]
     },
     "metadata": {
      "needs_background": "light"
     },
     "output_type": "display_data"
    },
    {
     "data": {
      "image/png": "[encoded data removed]",
      "text/plain": [
       "<Figure size 432x288 with 1 Axes>"
      ]
     },
     "metadata": {
      "needs_background": "light"
     },
     "output_type": "display_data"
    }
   ],
   "source": [
    "##################\n",
    "# a.3) Senoidal #\n",
    "#################\n",
    "\n",
    "a0 = 1       # Volts\n",
    "p0 = np.pi/2 # radianes\n",
    "f0 = fs/2    # Hz\n",
    "\n",
    "# Insertar aquí el código para generar y visualizar la señal\n",
    "##############################################################\n",
    "[tt,yy] = generador_senoidal(fs,f0,N,a0,p0)\n",
    "\n",
    "plt.figure(1)\n",
    "plt.plot(tt, yy)\n",
    "plt.title('Senoidal Amplitud:{} V Fase:{} radianes Frecuencia {}'.format(a0,p0,f0))\n",
    "plt.xlabel('tiempo [segundos]')\n",
    "plt.ylabel('Amplitud [V]')\n",
    "\n",
    "plt.figure(2)\n",
    "plt.stem(tt[:10],yy[:10])\n",
    "plt.title('Senoidal Amplitud:{} V Fase:{} radianes Frecuencia {}'.format(a0,p0,f0))\n",
    "plt.xlabel('tiempo [segundos]')\n",
    "plt.ylabel('Amplitud [V]')"
   ]
  },
  {
   "cell_type": "markdown",
   "metadata": {},
   "source": [
    "¿Y para los casos **a.2** y **a.3** podría conocer los parámetros de la senoidal?"
   ]
  },
  {
   "cell_type": "markdown",
   "metadata": {},
   "source": [
    "<div class=\"alert alert-block alert-warning\">\n",
    "<b>Respuesta:</b> En ninguno de los dos casos podria conocer los parametros de la senoidal\n",
    "</div>"
   ]
  },
  {
   "cell_type": "markdown",
   "metadata": {},
   "source": [
    "¿A qué se debe?"
   ]
  },
  {
   "cell_type": "markdown",
   "metadata": {},
   "source": [
    "<div class=\"alert alert-block alert-warning\">\n",
    "<b>Respuesta:</b> En este caso estamos sampleando una señal de > o = a FS/2 lo que va en contra del teorema de nyquist.\n",
    "    Tambien tener en cuenta que en el caso a.2 estamos muestreando justo cuando la senoidal llega a cero con lo cual estamos lidiando con la presicion del python para el 0, tener en cuenta que parece creciente por el error en las cifras que se usan de PI en numpy y en el caso a.3 estamos tomando las muestras en los maximos y minimos de la senoidal. \n",
    "    En resumen nos estan faltando mas muestras por ciclo de senoidal. \n",
    "</div>"
   ]
  },
  {
   "cell_type": "code",
   "execution_count": 7,
   "metadata": {},
   "outputs": [
    {
     "data": {
      "text/plain": [
       "Text(0, 0.5, 'Amplitud [V]')"
      ]
     },
     "execution_count": 7,
     "metadata": {},
     "output_type": "execute_result"
    },
    {
     "data": {
      "image/png": "[encoded data removed]",
      "text/plain": [
       "<Figure size 432x288 with 1 Axes>"
      ]
     },
     "metadata": {
      "needs_background": "light"
     },
     "output_type": "display_data"
    }
   ],
   "source": [
    "##################\n",
    "# a.4) Senoidal #\n",
    "#################\n",
    "\n",
    "a0 = 1     # Volts\n",
    "p0 = 0     # radianes\n",
    "f0 = fs+10 # Hz\n",
    "\n",
    "# Insertar aquí el código para generar y visualizar la señal\n",
    "##############################################################\n",
    "[tt,yy] = generador_senoidal(fs,f0,N,a0,p0)\n",
    "\n",
    "plt.figure(1)\n",
    "plt.plot(tt, yy)\n",
    "plt.title('Senoidal Amplitud:{} V Fase:{} radianes Frecuencia {}'.format(a0,p0,f0))\n",
    "plt.xlabel('tiempo [segundos]')\n",
    "plt.ylabel('Amplitud [V]')"
   ]
  },
  {
   "cell_type": "markdown",
   "metadata": {},
   "source": [
    "¿Es posible diferenciar **a.1** de **a.4** a partir de las gráficas?"
   ]
  },
  {
   "cell_type": "markdown",
   "metadata": {},
   "source": [
    "<div class=\"alert alert-block alert-warning\">\n",
    "<b>Respuesta:</b> No pueden diferenciarse las señales de a.1 y de a.4\n",
    "</div>"
   ]
  },
  {
   "cell_type": "markdown",
   "metadata": {},
   "source": [
    "¿En caso que no, qué solución podría implementar para evitar dicha ambigüedad?"
   ]
  },
  {
   "cell_type": "markdown",
   "metadata": {},
   "source": [
    "<div class=\"alert alert-block alert-warning\">\n",
    "<b>Respuesta:</b> Utilizando un filtro anti-aliasing o de desambiguacion, ya que estamos pasando frecuencias mas altas a frecuencias bajas y se hacen indistinguibles.\n",
    "</div>"
   ]
  },
  {
   "cell_type": "markdown",
   "metadata": {},
   "source": [
    "<div class=\"alert alert-block alert-info\">\n",
    "<b>2.a)</b> (Opcional) Implemente un algoritmo que calcule la transformada discreta de Fourier (DFT). Utilice las funciones generadoras de señales de 1) para evaluar y ejemplificar su funcionamiento.\n",
    "</div>"
   ]
  },
  {
   "cell_type": "code",
   "execution_count": 8,
   "metadata": {},
   "outputs": [],
   "source": [
    "def simple_dft(yy,fs,N):\n",
    "    \"\"\"\n",
    "    brief:  Genera la DFT, solamente la primera mitad y en valor absoluto.\n",
    "    Entradas\n",
    "    yy: Señal de entrada a convertir en DFT\n",
    "    ts: Tiempo de sampleo en segundos\n",
    "    N:  Numero de muestras de la señal\n",
    "    \n",
    "    Salidas\n",
    "    ff: Campo de las frecuencias para poder hacer un grafico\n",
    "    XX: Espectro de la señal en valor absoluto y solo una mitad.    \n",
    "    \"\"\"\n",
    "    #Calcula la DFT como explicada en las filminas.\n",
    "    X=np.zeros((N,),dtype=np.complex128);\n",
    "    for m in range(0,N):\n",
    "        for n in range(0,N):\n",
    "            X[m] += signal[n]*np.exp((-2j*(np.pi)*m*n)/N)\n",
    "    \n",
    "    ##Espectro para mostrar a la salida es solamente el valor absoluto de la mitad de las muestras.\n",
    "    XX=(2/N)*np.abs(X[0:N//2])  \n",
    "    ff=np.linspace(0,(fs/2),N//2)\n",
    "    return ff,XX"
   ]
  },
  {
   "cell_type": "code",
   "execution_count": 9,
   "metadata": {},
   "outputs": [
    {
     "data": {
      "image/png": "[encoded data removed]",
      "text/plain": [
       "<Figure size 432x288 with 1 Axes>"
      ]
     },
     "metadata": {
      "needs_background": "light"
     },
     "output_type": "display_data"
    },
    {
     "data": {
      "image/png": "[encoded data removed]",
      "text/plain": [
       "<Figure size 432x288 with 1 Axes>"
      ]
     },
     "metadata": {
      "needs_background": "light"
     },
     "output_type": "display_data"
    },
    {
     "name": "stdout",
     "output_type": "stream",
     "text": [
      "Hacemos un zoom para ver donde esta el pico de la DFT\n"
     ]
    },
    {
     "data": {
      "image/png": "[encoded data removed]",
      "text/plain": [
       "<Figure size 432x288 with 1 Axes>"
      ]
     },
     "metadata": {
      "needs_background": "light"
     },
     "output_type": "display_data"
    }
   ],
   "source": [
    "fs = 1000\n",
    "f0 = 4\n",
    "N  = 1000\n",
    "a0 = 1\n",
    "p0 = 2*np.pi\n",
    "\n",
    "#Generar la senoidal\n",
    "(tt,signal) = generador_senoidal(fs , f0 , N , a0 , p0 );\n",
    "\n",
    "plt.figure(1)\n",
    "line_hdls = plt.plot(tt,signal)\n",
    "plt.title('Señal: ' + 'Senoidal')\n",
    "plt.xlabel('tiempo [segundos]')\n",
    "plt.ylabel('Amplitud [V]')\n",
    "plt.show()\n",
    "\n",
    "(ff,half_dft) = simple_dft(signal,fs,N)\n",
    "\n",
    "plt.figure(2)\n",
    "plt.stem(ff,half_dft)\n",
    "plt.title('Espectro de la señal haciendo DFT')\n",
    "plt.xlabel('Frecuencia [Hz]')\n",
    "plt.ylabel('Magnitud Normalizada')\n",
    "plt.show()\n",
    "\n",
    "print('Hacemos un zoom para ver donde esta el pico de la DFT')\n",
    "plt.figure(3)\n",
    "plt.stem(ff[:10],half_dft[:10])\n",
    "plt.title('Espectro de la señal haciendo DFT')\n",
    "plt.xlabel('Frecuencia [Hz]')\n",
    "plt.ylabel('Magnitud Normalizada')\n",
    "plt.show()\n"
   ]
  },
  {
   "cell_type": "code",
   "execution_count": 10,
   "metadata": {},
   "outputs": [
    {
     "data": {
      "image/png": "[encoded data removed]",
      "text/plain": [
       "<Figure size 432x288 with 1 Axes>"
      ]
     },
     "metadata": {
      "needs_background": "light"
     },
     "output_type": "display_data"
    },
    {
     "data": {
      "image/png": "[encoded data removed]",
      "text/plain": [
       "<Figure size 432x288 with 1 Axes>"
      ]
     },
     "metadata": {
      "needs_background": "light"
     },
     "output_type": "display_data"
    },
    {
     "name": "stdout",
     "output_type": "stream",
     "text": [
      "Hacemos un zoom para ver donde esta el pico de la DFT\n"
     ]
    },
    {
     "data": {
      "image/png": "[encoded data removed]",
      "text/plain": [
       "<Figure size 432x288 with 1 Axes>"
      ]
     },
     "metadata": {
      "needs_background": "light"
     },
     "output_type": "display_data"
    }
   ],
   "source": [
    "def simple_fft(yy,fs,N):\n",
    "    \"\"\"\n",
    "    brief:  Genera la DFT, pero utilizando la FFT como algoritmo\n",
    "    Entradas\n",
    "    yy: Señal de entrada a convertir en DFT\n",
    "    ts: Tiempo de sampleo en segundos\n",
    "    N:  Numero de muestras de la señal\n",
    "    \n",
    "    Salidas\n",
    "    ff: Campo de las frecuencias para poder hacer un grafico\n",
    "    XX: Espectro de la señal en valor absoluto y solo una mitad.    \n",
    "    \"\"\"\n",
    "    \n",
    "    delta_f = (fs/2)/(N//2) ;\n",
    "    \n",
    "    XX = (2/N)*np.abs(sc.fft(yy));\n",
    "    XX = XX[0:N//2];\n",
    "    ff = np.linspace(0,(fs/2)-delta_f,N//2);\n",
    "     \n",
    "    return ff,XX\n",
    "\n",
    "fs = 1000\n",
    "f0 = 4\n",
    "N  = 1000\n",
    "a0 = 1\n",
    "p0 = 2*np.pi\n",
    "\n",
    "#Generar la senoidal\n",
    "(tt,signal) = generador_senoidal(fs , f0 , N , a0 , p0 );\n",
    "\n",
    "\n",
    "plt.figure(1)\n",
    "line_hdls = plt.plot(tt,signal)\n",
    "plt.title('Señal: ' + 'Senoidal')\n",
    "plt.xlabel('tiempo [segundos]')\n",
    "plt.ylabel('Amplitud [V]')\n",
    "plt.show()\n",
    "\n",
    "(ff,half_fft) = simple_fft(signal,fs,N)\n",
    "\n",
    "plt.figure(2)\n",
    "plt.stem(ff,half_fft)\n",
    "plt.title('Espectro de la señal haciendo DFT')\n",
    "plt.xlabel('Frecuencia [Hz]')\n",
    "plt.ylabel('Magnitud Normalizada')\n",
    "plt.show()\n",
    "\n",
    "print('Hacemos un zoom para ver donde esta el pico de la DFT')\n",
    "plt.figure(3)\n",
    "plt.stem(ff[:10],half_fft[:10])\n",
    "plt.title('Espectro de la señal haciendo DFT')\n",
    "plt.xlabel('Frecuencia [Hz]')\n",
    "plt.ylabel('Magnitud Normalizada')\n",
    "plt.show()\n"
   ]
  },
  {
   "cell_type": "markdown",
   "metadata": {},
   "source": [
    "<div class=\"alert alert-block alert-info\">\n",
    "<b>2.b)</b> (Opcional) Compare el tiempo de ejecución de la DFT implementada en con la **FFT** (implementada en **scipy.signal**) en función del tamaño de la señal N. Grafique el tiempo de ejecución de ambos casos en función de N.\n",
    "</div>"
   ]
  },
  {
   "cell_type": "markdown",
   "metadata": {},
   "source": [
    "<div class=\"alert alert-block alert-success\">\n",
    "<b>Ayuda:</b> Utilice el módulo **timeit** para medir el tiempo transcurrido. Nota :Se utiliza la funcion time.process_time_ns()\n",
    "</div>"
   ]
  },
  {
   "cell_type": "code",
   "execution_count": 11,
   "metadata": {},
   "outputs": [
    {
     "name": "stdout",
     "output_type": "stream",
     "text": [
      "Tiempo realizando la DFT:11.51239539[s] con N:2048\n",
      "Tiempo realizando la FFT:0.000379505[s] con N:2048\n"
     ]
    }
   ],
   "source": [
    "#Se utiliza el modulo time y el metodo process_time_ns()\n",
    "import time\n",
    "\n",
    "fs = 1000\n",
    "f0 = 2\n",
    "N  = 2048\n",
    "a0 = 1\n",
    "p0 = 0\n",
    "\n",
    "(tt,signal) = generador_senoidal(fs , f0 , N , a0 , p0 );\n",
    "\n",
    "time_before_dft = time.process_time_ns()\n",
    "(ff,half_dft) = simple_dft(signal,fs,N)\n",
    "time_after_dft = time.process_time_ns()\n",
    "\n",
    "print('Tiempo realizando la DFT:{}[s] con N:{}'.format((time_after_dft-time_before_dft)/1e9,N))\n",
    "\n",
    "time_before_fft = time.process_time_ns()\n",
    "(ff,half_fft) = simple_fft(signal,fs,N)\n",
    "time_after_fft = time.process_time_ns()\n",
    "\n",
    "print('Tiempo realizando la FFT:{}[s] con N:{}'.format((time_after_fft-time_before_fft)/1e9,N))\n",
    "\n",
    "\n"
   ]
  },
  {
   "cell_type": "code",
   "execution_count": 12,
   "metadata": {},
   "outputs": [
    {
     "name": "stdout",
     "output_type": "stream",
     "text": [
      "Tiempo realizando la DFT:2.831170092[s] con N:1024\n",
      "Tiempo realizando la FFT:0.000322209[s] con N:1024\n"
     ]
    }
   ],
   "source": [
    "fs = 1000\n",
    "f0 = 2\n",
    "N  = 1024\n",
    "a0 = 1\n",
    "p0 = 0\n",
    "\n",
    "(tt,signal) = generador_senoidal(fs , f0 , N , a0 , p0 );\n",
    "\n",
    "time_before_dft = time.process_time_ns()\n",
    "(ff,half_dft) = simple_dft(signal,fs,N)\n",
    "time_after_dft = time.process_time_ns()\n",
    "\n",
    "print('Tiempo realizando la DFT:{}[s] con N:{}'.format((time_after_dft-time_before_dft)/1e9,N))\n",
    "\n",
    "time_before_fft = time.process_time_ns()\n",
    "(ff,half_fft) = simple_fft(signal,fs,N)\n",
    "time_after_fft = time.process_time_ns()\n",
    "\n",
    "print('Tiempo realizando la FFT:{}[s] con N:{}'.format((time_after_fft-time_before_fft)/1e9,N))"
   ]
  },
  {
   "cell_type": "code",
   "execution_count": 13,
   "metadata": {},
   "outputs": [
    {
     "name": "stdout",
     "output_type": "stream",
     "text": [
      "Tiempo realizando la DFT:0.717095819[s] con N:512\n",
      "Tiempo realizando la FFT:0.000142915[s] con N:512\n"
     ]
    }
   ],
   "source": [
    "fs = 1000\n",
    "f0 = 2\n",
    "N  = 512\n",
    "a0 = 1\n",
    "p0 = 0\n",
    "\n",
    "(tt,signal) = generador_senoidal(fs , f0 , N , a0 , p0 );\n",
    "\n",
    "time_before_dft = time.process_time_ns()\n",
    "(ff,half_dft) = simple_dft(signal,fs,N)\n",
    "time_after_dft = time.process_time_ns()\n",
    "\n",
    "print('Tiempo realizando la DFT:{}[s] con N:{}'.format((time_after_dft-time_before_dft)/1e9,N))\n",
    "\n",
    "time_before_fft = time.process_time_ns()\n",
    "(ff,half_fft) = simple_fft(signal,fs,N)\n",
    "time_after_fft = time.process_time_ns()\n",
    "\n",
    "print('Tiempo realizando la FFT:{}[s] con N:{}'.format((time_after_fft-time_before_fft)/1e9,N))"
   ]
  },
  {
   "cell_type": "code",
   "execution_count": 14,
   "metadata": {},
   "outputs": [
    {
     "name": "stdout",
     "output_type": "stream",
     "text": [
      "Tiempo realizando la DFT:0.194121229[s] con N:256\n",
      "Tiempo realizando la FFT:0.000116837[s] con N:256\n"
     ]
    }
   ],
   "source": [
    "fs = 1000\n",
    "f0 = 2\n",
    "N  = 256\n",
    "a0 = 1\n",
    "p0 = 0\n",
    "\n",
    "(tt,signal) = generador_senoidal(fs , f0 , N , a0 , p0 );\n",
    "\n",
    "time_before_dft = time.process_time_ns()\n",
    "(ff,half_dft) = simple_dft(signal,fs,N)\n",
    "time_after_dft = time.process_time_ns()\n",
    "\n",
    "print('Tiempo realizando la DFT:{}[s] con N:{}'.format((time_after_dft-time_before_dft)/1e9,N))\n",
    "\n",
    "time_before_fft = time.process_time_ns()\n",
    "(ff,half_fft) = simple_fft(signal,fs,N)\n",
    "time_after_fft = time.process_time_ns()\n",
    "\n",
    "print('Tiempo realizando la FFT:{}[s] con N:{}'.format((time_after_fft-time_before_fft)/1e9,N))"
   ]
  },
  {
   "cell_type": "code",
   "execution_count": 15,
   "metadata": {},
   "outputs": [
    {
     "name": "stdout",
     "output_type": "stream",
     "text": [
      "Tiempo realizando la DFT:0.047233425[s] con N:128\n",
      "Tiempo realizando la FFT:0.000151214[s] con N:128\n"
     ]
    }
   ],
   "source": [
    "fs = 1000\n",
    "f0 = 2\n",
    "N  = 128\n",
    "a0 = 1\n",
    "p0 = 0\n",
    "\n",
    "(tt,signal) = generador_senoidal(fs , f0 , N , a0 , p0 );\n",
    "\n",
    "time_before_dft = time.process_time_ns()\n",
    "(ff,half_dft) = simple_dft(signal,fs,N)\n",
    "time_after_dft = time.process_time_ns()\n",
    "\n",
    "print('Tiempo realizando la DFT:{}[s] con N:{}'.format((time_after_dft-time_before_dft)/1e9,N))\n",
    "\n",
    "time_before_fft = time.process_time_ns()\n",
    "(ff,half_fft) = simple_fft(signal,fs,N)\n",
    "time_after_fft = time.process_time_ns()\n",
    "\n",
    "print('Tiempo realizando la FFT:{}[s] con N:{}'.format((time_after_fft-time_before_fft)/1e9,N))"
   ]
  },
  {
   "cell_type": "code",
   "execution_count": 16,
   "metadata": {},
   "outputs": [
    {
     "name": "stdout",
     "output_type": "stream",
     "text": [
      "Tiempo realizando la DFT:0.011808514[s] con N:64\n",
      "Tiempo realizando la FFT:0.000144141[s] con N:64\n"
     ]
    }
   ],
   "source": [
    "fs = 1000\n",
    "f0 = 2\n",
    "N  = 64\n",
    "a0 = 1\n",
    "p0 = 0\n",
    "\n",
    "(tt,signal) = generador_senoidal(fs , f0 , N , a0 , p0 );\n",
    "\n",
    "time_before_dft = time.process_time_ns()\n",
    "(ff,half_dft) = simple_dft(signal,fs,N)\n",
    "time_after_dft = time.process_time_ns()\n",
    "\n",
    "print('Tiempo realizando la DFT:{}[s] con N:{}'.format((time_after_dft-time_before_dft)/1e9,N))\n",
    "\n",
    "time_before_fft = time.process_time_ns()\n",
    "(ff,half_fft) = simple_fft(signal,fs,N)\n",
    "time_after_fft = time.process_time_ns()\n",
    "\n",
    "print('Tiempo realizando la FFT:{}[s] con N:{}'.format((time_after_fft-time_before_fft)/1e9,N))"
   ]
  },
  {
   "cell_type": "code",
   "execution_count": 17,
   "metadata": {},
   "outputs": [
    {
     "name": "stdout",
     "output_type": "stream",
     "text": [
      "Tiempo realizando la DFT:0.002852812[s] con N:32\n",
      "Tiempo realizando la FFT:0.000186596[s] con N:32\n"
     ]
    }
   ],
   "source": [
    "fs = 1000\n",
    "f0 = 2\n",
    "N  = 32\n",
    "a0 = 1\n",
    "p0 = 0\n",
    "\n",
    "(tt,signal) = generador_senoidal(fs , f0 , N , a0 , p0 );\n",
    "\n",
    "time_before_dft = time.process_time_ns()\n",
    "(ff,half_dft) = simple_dft(signal,fs,N)\n",
    "time_after_dft = time.process_time_ns()\n",
    "\n",
    "print('Tiempo realizando la DFT:{}[s] con N:{}'.format((time_after_dft-time_before_dft)/1e9,N))\n",
    "\n",
    "time_before_fft = time.process_time_ns()\n",
    "(ff,half_fft) = simple_fft(signal,fs,N)\n",
    "time_after_fft = time.process_time_ns()\n",
    "\n",
    "print('Tiempo realizando la FFT:{}[s] con N:{}'.format((time_after_fft-time_before_fft)/1e9,N))"
   ]
  },
  {
   "cell_type": "code",
   "execution_count": 18,
   "metadata": {},
   "outputs": [
    {
     "name": "stdout",
     "output_type": "stream",
     "text": [
      "Tiempo realizando la DFT:0.001499428[s] con N:16\n",
      "Tiempo realizando la FFT:0.000242553[s] con N:16\n"
     ]
    }
   ],
   "source": [
    "fs = 1000\n",
    "f0 = 2\n",
    "N  = 16\n",
    "a0 = 1\n",
    "p0 = 0\n",
    "\n",
    "(tt,signal) = generador_senoidal(fs , f0 , N , a0 , p0 );\n",
    "\n",
    "time_before_dft = time.process_time_ns()\n",
    "(ff,half_dft) = simple_dft(signal,fs,N)\n",
    "time_after_dft = time.process_time_ns()\n",
    "\n",
    "print('Tiempo realizando la DFT:{}[s] con N:{}'.format((time_after_dft-time_before_dft)/1e9,N))\n",
    "\n",
    "time_before_fft = time.process_time_ns()\n",
    "(ff,half_fft) = simple_fft(signal,fs,N)\n",
    "time_after_fft = time.process_time_ns()\n",
    "\n",
    "print('Tiempo realizando la FFT:{}[s] con N:{}'.format((time_after_fft-time_before_fft)/1e9,N))"
   ]
  },
  {
   "cell_type": "markdown",
   "metadata": {},
   "source": [
    "<div class=\"alert alert-block alert-danger\">\n",
    "<b>¡Atención!:</b> Completá la siguiente tabla. Podés guardar tus resultados en la lista **tus_resultados**.\n",
    "</div>"
   ]
  },
  {
   "cell_type": "code",
   "execution_count": 19,
   "metadata": {},
   "outputs": [
    {
     "data": {
      "text/html": [
       "<table border=\"1\" class=\"dataframe\">\n",
       "  <thead>\n",
       "    <tr style=\"text-align: right;\">\n",
       "      <th></th>\n",
       "      <th>tiempo transcurrido (s)</th>\n",
       "    </tr>\n",
       "  </thead>\n",
       "  <tbody>\n",
       "    <tr>\n",
       "      <th>Tamaño de la señal N</th>\n",
       "      <td>--</td>\n",
       "    </tr>\n",
       "    <tr>\n",
       "      <th>16</th>\n",
       "      <td>0.001065723</td>\n",
       "    </tr>\n",
       "    <tr>\n",
       "      <th>32</th>\n",
       "      <td>0.003404574</td>\n",
       "    </tr>\n",
       "    <tr>\n",
       "      <th>64</th>\n",
       "      <td>0.014863965</td>\n",
       "    </tr>\n",
       "    <tr>\n",
       "      <th>128</th>\n",
       "      <td>0.063846489</td>\n",
       "    </tr>\n",
       "    <tr>\n",
       "      <th>256</th>\n",
       "      <td>0.200427548</td>\n",
       "    </tr>\n",
       "    <tr>\n",
       "      <th>512</th>\n",
       "      <td>0.748014545</td>\n",
       "    </tr>\n",
       "    <tr>\n",
       "      <th>1024</th>\n",
       "      <td>2.995179604</td>\n",
       "    </tr>\n",
       "    <tr>\n",
       "      <th>2048</th>\n",
       "      <td>11.651772948</td>\n",
       "    </tr>\n",
       "  </tbody>\n",
       "</table>"
      ],
      "text/plain": [
       "<IPython.core.display.HTML object>"
      ]
     },
     "execution_count": 19,
     "metadata": {},
     "output_type": "execute_result"
    }
   ],
   "source": [
    "from pandas import DataFrame\n",
    "from IPython.display import HTML\n",
    "\n",
    "#######################################\n",
    "# Tu simulación que genere resultados #\n",
    "#######################################\n",
    "\n",
    "tus_resultados = [ ['--'], \n",
    "                   ['0.001065723'], # <-- acá debería haber numeritos :)\n",
    "                   ['0.003404574'], # <-- acá debería haber numeritos :)\n",
    "                   ['0.014863965'], # <-- acá debería haber numeritos :)\n",
    "                   ['0.063846489'], # <-- acá debería haber numeritos :)\n",
    "                   ['0.200427548'], # <-- acá debería haber numeritos :)\n",
    "                   ['0.748014545'], # <-- acá debería haber numeritos :)\n",
    "                   ['2.995179604'], # <-- acá debería haber numeritos :)\n",
    "                   ['11.651772948']  # <-- acá debería haber numeritos :)\n",
    "                 ]\n",
    "df = DataFrame(tus_resultados, columns=['tiempo transcurrido (s)'],\n",
    "               index=['Tamaño de la señal N', \n",
    "                      16, \n",
    "                      32, \n",
    "                      64, \n",
    "                      128,\n",
    "                      256,\n",
    "                      512,\n",
    "                      1024,\n",
    "                      2048\n",
    "                     ])\n",
    "HTML(df.to_html())\n"
   ]
  },
  {
   "cell_type": "markdown",
   "metadata": {},
   "source": [
    "<div class=\"alert alert-block alert-info\">\n",
    "<b>3.a)</b> Verifique el efecto del leakage para una senoidal de $f_0 = f_S/4 + f_D$ siendo $f_D = (0.01,\\, 0.25,\\, 0.5)$, es decir una frecuencia de desintonía respecto al bin $f_S/4$.\n",
    "</div>"
   ]
  },
  {
   "cell_type": "code",
   "execution_count": 20,
   "metadata": {},
   "outputs": [
    {
     "data": {
      "image/png": "[encoded data removed]",
      "text/plain": [
       "<Figure size 432x288 with 1 Axes>"
      ]
     },
     "metadata": {
      "needs_background": "light"
     },
     "output_type": "display_data"
    },
    {
     "data": {
      "image/png": "[encoded data removed]",
      "text/plain": [
       "<Figure size 432x288 with 1 Axes>"
      ]
     },
     "metadata": {
      "needs_background": "light"
     },
     "output_type": "display_data"
    },
    {
     "data": {
      "image/png": "[encoded data removed]",
      "text/plain": [
       "<Figure size 432x288 with 1 Axes>"
      ]
     },
     "metadata": {
      "needs_background": "light"
     },
     "output_type": "display_data"
    },
    {
     "name": "stdout",
     "output_type": "stream",
     "text": [
      "Magnitud Frecuencia Central:1.0 para fs/4 + 0\n",
      "Magnitud Frecuencia Adyacente:2.0232342018925938e-14 para fs/4 + 0\n",
      "Magnitud Resto de las frecuencias:1.0169755128453705e-12 para fs/4 + 0\n"
     ]
    }
   ],
   "source": [
    "fs = 1000\n",
    "f0 = fs/4\n",
    "delta = 0\n",
    "N  = 1000\n",
    "a0 = 1\n",
    "p0 = 0\n",
    "\n",
    "#Generar la senoidal\n",
    "(tt,signal) = generador_senoidal(fs , f0 + delta , N , a0 , p0 );\n",
    "\n",
    "\n",
    "plt.figure(1)\n",
    "line_hdls = plt.plot(tt,signal)\n",
    "plt.title('Señal: ' + 'Senoidal')\n",
    "plt.xlabel('tiempo [segundos]')\n",
    "plt.ylabel('Amplitud [V]')\n",
    "plt.show()\n",
    "\n",
    "\n",
    "(ff,half_fft) = simple_fft(signal,fs,N)\n",
    "\n",
    "plt.figure(2)\n",
    "plt.stem(ff,half_fft)\n",
    "plt.title('Espectro de la señal haciendo DFT')\n",
    "plt.xlabel('Frecuencia [Hz]')\n",
    "plt.ylabel('Magnitud Normalizada')\n",
    "plt.show()\n",
    "\n",
    "#Hacemos un sum en la frecuencia de interes\n",
    "plt.figure(3)\n",
    "plt.stem(ff[int(f0-5):int(f0+5)],half_fft[int(f0-5):int(f0+5)])\n",
    "plt.title('Espectro de la señal haciendo DFT')\n",
    "plt.xlabel('Frecuencia [Hz]')\n",
    "plt.ylabel('Magnitud Normalizada')\n",
    "plt.show()\n",
    "\n",
    "\n",
    "print('Magnitud Frecuencia Central:{} para fs/4 + {}'.format(half_fft[int(f0)],delta))\n",
    "print('Magnitud Frecuencia Adyacente:{} para fs/4 + {}'.format(half_fft[int(f0+1)],delta))\n",
    "\n",
    "spread = np.sum(np.concatenate((half_fft[:int(f0)],half_fft[int(f0)+1:]),axis=0))\n",
    "print('Magnitud Resto de las frecuencias:{} para fs/4 + {}'.format(spread,delta))"
   ]
  },
  {
   "cell_type": "code",
   "execution_count": 21,
   "metadata": {},
   "outputs": [
    {
     "data": {
      "image/png": "[encoded data removed]",
      "text/plain": [
       "<Figure size 432x288 with 1 Axes>"
      ]
     },
     "metadata": {
      "needs_background": "light"
     },
     "output_type": "display_data"
    },
    {
     "data": {
      "image/png": "[encoded data removed]",
      "text/plain": [
       "<Figure size 432x288 with 1 Axes>"
      ]
     },
     "metadata": {
      "needs_background": "light"
     },
     "output_type": "display_data"
    },
    {
     "data": {
      "image/png": "[encoded data removed]",
      "text/plain": [
       "<Figure size 432x288 with 1 Axes>"
      ]
     },
     "metadata": {
      "needs_background": "light"
     },
     "output_type": "display_data"
    },
    {
     "name": "stdout",
     "output_type": "stream",
     "text": [
      "Magnitud Frecuencia Central:0.9998335450382972 para fs/4 + 0.01\n",
      "Magnitud Frecuencia Adyacente:0.010101383898823976 para fs/4 + 0.01\n",
      "Magnitud Resto de las frecuencias:0.12677455963157808 para fs/4 + 0.01\n"
     ]
    }
   ],
   "source": [
    "fs = 1000\n",
    "f0 = fs/4\n",
    "delta = 0.01\n",
    "N  = 1000\n",
    "a0 = 1\n",
    "p0 = 0\n",
    "\n",
    "#Generar la senoidal\n",
    "(tt,signal) = generador_senoidal(fs , f0 + delta , N , a0 , p0 );\n",
    "\n",
    "\n",
    "plt.figure(1)\n",
    "line_hdls = plt.plot(tt,signal)\n",
    "plt.title('Señal: ' + 'Senoidal')\n",
    "plt.xlabel('tiempo [segundos]')\n",
    "plt.ylabel('Amplitud [V]')\n",
    "plt.show()\n",
    "\n",
    "\n",
    "(ff,half_fft) = simple_fft(signal,fs,N)\n",
    "\n",
    "plt.figure(2)\n",
    "plt.stem(ff,half_fft)\n",
    "plt.title('Espectro de la señal haciendo DFT')\n",
    "plt.xlabel('Frecuencia [Hz]')\n",
    "plt.ylabel('Magnitud Normalizada')\n",
    "plt.show()\n",
    "\n",
    "#Hacemos un sum en la frecuencia de interes\n",
    "plt.figure(3)\n",
    "plt.stem(ff[int(f0-5):int(f0+5)],half_fft[int(f0-5):int(f0+5)])\n",
    "plt.title('Espectro de la señal haciendo DFT')\n",
    "plt.xlabel('Frecuencia [Hz]')\n",
    "plt.ylabel('Magnitud Normalizada')\n",
    "plt.show()\n",
    "\n",
    "\n",
    "print('Magnitud Frecuencia Central:{} para fs/4 + {}'.format(half_fft[int(f0)],delta))\n",
    "print('Magnitud Frecuencia Adyacente:{} para fs/4 + {}'.format(half_fft[int(f0+1)],delta))\n",
    "\n",
    "spread = np.sum(np.concatenate((half_fft[:int(f0)],half_fft[int(f0)+1:]),axis=0))\n",
    "print('Magnitud Resto de las frecuencias:{} para fs/4 + {}'.format(spread,delta))"
   ]
  },
  {
   "cell_type": "code",
   "execution_count": 22,
   "metadata": {},
   "outputs": [
    {
     "data": {
      "image/png": "[encoded data removed]",
      "text/plain": [
       "<Figure size 432x288 with 1 Axes>"
      ]
     },
     "metadata": {
      "needs_background": "light"
     },
     "output_type": "display_data"
    },
    {
     "data": {
      "image/png": "[encoded data removed]",
      "text/plain": [
       "<Figure size 432x288 with 1 Axes>"
      ]
     },
     "metadata": {
      "needs_background": "light"
     },
     "output_type": "display_data"
    },
    {
     "data": {
      "image/png": "[encoded data removed]",
      "text/plain": [
       "<Figure size 432x288 with 1 Axes>"
      ]
     },
     "metadata": {
      "needs_background": "light"
     },
     "output_type": "display_data"
    },
    {
     "name": "stdout",
     "output_type": "stream",
     "text": [
      "Magnitud Frecuencia Central:0.899609302590939 para fs/4 + 0.25\n",
      "Magnitud Frecuencia Adyacente:0.3008128277625503 para fs/4 + 0.25\n",
      "Magnitud Resto de las frecuencias:2.804288300620473 para fs/4 + 0.25\n"
     ]
    }
   ],
   "source": [
    "fs = 1000\n",
    "f0 = fs/4\n",
    "delta = 0.25\n",
    "N  = 1000\n",
    "a0 = 1\n",
    "p0 = 0\n",
    "\n",
    "#Generar la senoidal\n",
    "(tt,signal) = generador_senoidal(fs , f0 + delta , N , a0 , p0 );\n",
    "\n",
    "\n",
    "plt.figure(1)\n",
    "line_hdls = plt.plot(tt,signal)\n",
    "plt.title('Señal: ' + 'Senoidal')\n",
    "plt.xlabel('tiempo [segundos]')\n",
    "plt.ylabel('Amplitud [V]')\n",
    "plt.show()\n",
    "\n",
    "\n",
    "(ff,half_fft) = simple_fft(signal,fs,N)\n",
    "\n",
    "plt.figure(2)\n",
    "plt.stem(ff,half_fft)\n",
    "plt.title('Espectro de la señal haciendo DFT')\n",
    "plt.xlabel('Frecuencia [Hz]')\n",
    "plt.ylabel('Magnitud Normalizada')\n",
    "plt.show()\n",
    "\n",
    "#Hacemos un sum en la frecuencia de interes\n",
    "plt.figure(3)\n",
    "plt.stem(ff[int(f0-5):int(f0+5)],half_fft[int(f0-5):int(f0+5)])\n",
    "plt.title('Espectro de la señal haciendo DFT')\n",
    "plt.xlabel('Frecuencia [Hz]')\n",
    "plt.ylabel('Magnitud Normalizada')\n",
    "plt.show()\n",
    "\n",
    "\n",
    "print('Magnitud Frecuencia Central:{} para fs/4 + {}'.format(half_fft[int(f0)],delta))\n",
    "print('Magnitud Frecuencia Adyacente:{} para fs/4 + {}'.format(half_fft[int(f0+1)],delta))\n",
    "\n",
    "spread = np.sum(np.concatenate((half_fft[:int(f0)],half_fft[int(f0)+1:]),axis=0))\n",
    "print('Magnitud Resto de las frecuencias:{} para fs/4 + {}'.format(spread,delta))"
   ]
  },
  {
   "cell_type": "code",
   "execution_count": 23,
   "metadata": {},
   "outputs": [
    {
     "data": {
      "image/png": "[encoded data removed]",
      "text/plain": [
       "<Figure size 432x288 with 1 Axes>"
      ]
     },
     "metadata": {
      "needs_background": "light"
     },
     "output_type": "display_data"
    },
    {
     "data": {
      "image/png": "[encoded data removed]",
      "text/plain": [
       "<Figure size 432x288 with 1 Axes>"
      ]
     },
     "metadata": {
      "needs_background": "light"
     },
     "output_type": "display_data"
    },
    {
     "data": {
      "image/png": "[encoded data removed]",
      "text/plain": [
       "<Figure size 432x288 with 1 Axes>"
      ]
     },
     "metadata": {
      "needs_background": "light"
     },
     "output_type": "display_data"
    },
    {
     "name": "stdout",
     "output_type": "stream",
     "text": [
      "Magnitud Frecuencia Central:0.6366176779711065 para fs/4 + 0.5\n",
      "Magnitud Frecuencia Adyacente:0.6366239611925769 para fs/4 + 0.5\n",
      "Magnitud Resto de las frecuencias:4.282238291492439 para fs/4 + 0.5\n"
     ]
    }
   ],
   "source": [
    "fs = 1000\n",
    "f0 = fs/4\n",
    "delta = 0.50\n",
    "N  = 1000\n",
    "a0 = 1\n",
    "p0 = 0\n",
    "\n",
    "#Generar la senoidal\n",
    "(tt,signal) = generador_senoidal(fs , f0 + delta , N , a0 , p0 );\n",
    "\n",
    "\n",
    "plt.figure(1)\n",
    "line_hdls = plt.plot(tt,signal)\n",
    "plt.title('Señal: ' + 'Senoidal')\n",
    "plt.xlabel('tiempo [segundos]')\n",
    "plt.ylabel('Amplitud [V]')\n",
    "plt.show()\n",
    "\n",
    "\n",
    "(ff,half_fft) = simple_fft(signal,fs,N)\n",
    "\n",
    "plt.figure(2)\n",
    "plt.stem(ff,half_fft)\n",
    "plt.title('Espectro de la señal haciendo DFT')\n",
    "plt.xlabel('Frecuencia [Hz]')\n",
    "plt.ylabel('Magnitud Normalizada')\n",
    "plt.show()\n",
    "\n",
    "#Hacemos un zoom en la frecuencia de interes\n",
    "plt.figure(3)\n",
    "plt.stem(ff[int(f0-5):int(f0+5)],half_fft[int(f0-5):int(f0+5)])\n",
    "plt.title('Espectro de la señal haciendo DFT')\n",
    "plt.xlabel('Frecuencia [Hz]')\n",
    "plt.ylabel('Magnitud Normalizada')\n",
    "plt.show()\n",
    "\n",
    "\n",
    "print('Magnitud Frecuencia Central:{} para fs/4 + {}'.format(half_fft[int(f0)],delta))\n",
    "print('Magnitud Frecuencia Adyacente:{} para fs/4 + {}'.format(half_fft[int(f0+1)],delta))\n",
    "\n",
    "spread = np.sum(np.concatenate((half_fft[:int(f0)],half_fft[int(f0)+1:]),axis=0))\n",
    "print('Magnitud Resto de las frecuencias:{} para fs/4 + {}'.format(spread,delta))"
   ]
  },
  {
   "cell_type": "markdown",
   "metadata": {},
   "source": [
    "<div class=\"alert alert-block alert-danger\">\n",
    "<b>¡Atención!:</b> Completá la siguiente tabla. Podés guardar tus resultados en la lista **tus_resultados**.\n",
    "</div>"
   ]
  },
  {
   "cell_type": "code",
   "execution_count": 24,
   "metadata": {},
   "outputs": [
    {
     "data": {
      "text/html": [
       "<table border=\"1\" class=\"dataframe\">\n",
       "  <thead>\n",
       "    <tr style=\"text-align: right;\">\n",
       "      <th></th>\n",
       "      <th>Frecuencia central</th>\n",
       "      <th>Primer adyacente</th>\n",
       "      <th>Resto de frecuencias</th>\n",
       "    </tr>\n",
       "  </thead>\n",
       "  <tbody>\n",
       "    <tr>\n",
       "      <th>$f_0$ \\ expr. matemática</th>\n",
       "      <td>$ \\lvert X(f_0) \\lvert$</td>\n",
       "      <td>$ \\lvert X(f_0+1) \\lvert $</td>\n",
       "      <td>$\\sum_{i=F} \\lvert X(f_i) \\lvert ^2 $</td>\n",
       "    </tr>\n",
       "    <tr>\n",
       "      <th></th>\n",
       "      <td></td>\n",
       "      <td></td>\n",
       "      <td>$F:f \\neq f_0$</td>\n",
       "    </tr>\n",
       "    <tr>\n",
       "      <th>$f_S/4$</th>\n",
       "      <td>1.0</td>\n",
       "      <td>2.023e-14</td>\n",
       "      <td>1.016e-12</td>\n",
       "    </tr>\n",
       "    <tr>\n",
       "      <th>$f_S/4+0.01$</th>\n",
       "      <td>0.999</td>\n",
       "      <td>0.010</td>\n",
       "      <td>0.126</td>\n",
       "    </tr>\n",
       "    <tr>\n",
       "      <th>$f_S/4+0.25$</th>\n",
       "      <td>0.899</td>\n",
       "      <td>0.300</td>\n",
       "      <td>2.804</td>\n",
       "    </tr>\n",
       "    <tr>\n",
       "      <th>$f_S/4+0.5$</th>\n",
       "      <td>0.636</td>\n",
       "      <td>0.636</td>\n",
       "      <td>4.282</td>\n",
       "    </tr>\n",
       "  </tbody>\n",
       "</table>"
      ],
      "text/plain": [
       "<IPython.core.display.HTML object>"
      ]
     },
     "execution_count": 24,
     "metadata": {},
     "output_type": "execute_result"
    }
   ],
   "source": [
    "#######################################\n",
    "# Tu simulación que genere resultados #\n",
    "#######################################\n",
    "\n",
    "tus_resultados = [ ['$ \\lvert X(f_0) \\lvert$', '$ \\lvert X(f_0+1) \\lvert $', '$\\sum_{i=F} \\lvert X(f_i) \\lvert ^2 $'], \n",
    "                   ['',                        '',                           '$F:f \\neq f_0$'], \n",
    "                  ['1.0', '2.023e-14', '1.016e-12'], # <-- acá debería haber numeritos :)\n",
    "                  ['0.999', '0.010', '0.126'], # <-- acá debería haber numeritos :)\n",
    "                  ['0.899', '0.300', '2.804'], # <-- acá debería haber numeritos :)\n",
    "                  ['0.636', '0.636', '4.282']  # <-- acá debería haber numeritos :)\n",
    "                 ]\n",
    "df = DataFrame(tus_resultados, columns=['Frecuencia central', 'Primer adyacente', 'Resto de frecuencias'],\n",
    "               index=['$f_0$ \\ expr. matemática', \n",
    "                      '', \n",
    "                      '$f_S/4$', \n",
    "                      '$f_S/4+0.01$', \n",
    "                      '$f_S/4+0.25$', \n",
    "                      '$f_S/4+0.5$'])\n",
    "HTML(df.to_html())\n"
   ]
  },
  {
   "cell_type": "markdown",
   "metadata": {},
   "source": [
    "<div class=\"alert alert-block alert-info\">\n",
    "<b>3.b)</b> Verifique qué ocurre si a la señal de $f_0 = f_S/4 + 0.5$ se le agregan ceros para prolongar su duración. Es decir si la señal tiene N muestras, agregue $M_j$ ceros siendo $M_j = ( \\frac{N}{10},\\, N,\\, 10N)$.\n",
    "</div>"
   ]
  },
  {
   "cell_type": "code",
   "execution_count": 25,
   "metadata": {},
   "outputs": [],
   "source": [
    "def center_of_mass_fft(ff,half_fft):\n",
    "    return ((np.sum(np.multiply(ff,half_fft)))/np.sum(half_fft))"
   ]
  },
  {
   "cell_type": "code",
   "execution_count": 26,
   "metadata": {},
   "outputs": [],
   "source": [
    "error_vector = np.zeros(5)"
   ]
  },
  {
   "cell_type": "code",
   "execution_count": 27,
   "metadata": {},
   "outputs": [
    {
     "data": {
      "image/png": "[encoded data removed]",
      "text/plain": [
       "<Figure size 432x288 with 1 Axes>"
      ]
     },
     "metadata": {
      "needs_background": "light"
     },
     "output_type": "display_data"
    },
    {
     "data": {
      "image/png": "[encoded data removed]",
      "text/plain": [
       "<Figure size 432x288 with 1 Axes>"
      ]
     },
     "metadata": {
      "needs_background": "light"
     },
     "output_type": "display_data"
    },
    {
     "data": {
      "image/png": "[encoded data removed]",
      "text/plain": [
       "<Figure size 432x288 with 1 Axes>"
      ]
     },
     "metadata": {
      "needs_background": "light"
     },
     "output_type": "display_data"
    },
    {
     "name": "stdout",
     "output_type": "stream",
     "text": [
      "Zero Padding de 0\n",
      "Frecuencia Target es: 250.5 Hz\n",
      "Frecuencia donde se encuentra el maximo: 251.0 Hz\n",
      "Centro de masa de la frecuencia 250.35\n",
      "Paso de frecuencia:1.0 Hz\n",
      "Error Metodo Frecuencia Maxima:0.19960079840319359 [%]\n"
     ]
    }
   ],
   "source": [
    "# Inserte aquí su código\n",
    "\n",
    "fs = 1000\n",
    "ts = 1/fs\n",
    "f0 = fs/4\n",
    "delta = 0.5\n",
    "N  = 1000\n",
    "a0 = 1\n",
    "p0 = 0\n",
    "\n",
    "#Generar la senoidal\n",
    "(tt,signal) = generador_senoidal(fs , f0 + delta , N , a0 , p0 );\n",
    "\n",
    "#Realizo el zero padding\n",
    "signal = np.pad(signal,(0,0),'constant')\n",
    "tt = np.linspace(0,(len(signal)-1)*ts, len(signal)).flatten()\n",
    "\n",
    "#Hago un plot de la señal senoidal\n",
    "plt.figure(1)\n",
    "line_hdls = plt.plot(tt,signal)\n",
    "plt.title('Señal: ' + 'Senoidal')\n",
    "plt.xlabel('tiempo [segundos]')\n",
    "plt.ylabel('Amplitud [V]')\n",
    "plt.show()\n",
    "\n",
    "(ff,half_fft) = simple_fft(signal,fs,len(signal))\n",
    "\n",
    "#Hago el ploteo de la FFT\n",
    "plt.figure(2)\n",
    "plt.stem(ff,half_fft)\n",
    "plt.title('Espectro de la señal haciendo FFT')\n",
    "plt.xlabel('Frecuencia [Hz]')\n",
    "plt.ylabel('Magnitud Normalizada')\n",
    "plt.show()\n",
    "\n",
    "#Hacemos un zoom de la FFT\n",
    "plt.figure(3)\n",
    "plt.stem(ff[240:260],half_fft[240:260])\n",
    "plt.title('Espectro de la señal haciendo FFT')\n",
    "plt.xlabel('Frecuencia [Hz]')\n",
    "plt.ylabel('Magnitud Normalizada')\n",
    "plt.show()\n",
    "\n",
    "\n",
    "max_mag_value = np.amax(half_fft);\n",
    "max_freq_value = np.where(half_fft == max_mag_value)\n",
    "\n",
    "print('Zero Padding de 0')\n",
    "print('Frecuencia Target es: {} Hz'.format(f0 + delta))\n",
    "print('Frecuencia donde se encuentra el maximo: {} Hz'.format(round(ff[max_freq_value[0][0]],2)))\n",
    "print('Centro de masa de la frecuencia {}'.format(round(center_of_mass_fft(ff,half_fft),2)))\n",
    "print('Paso de frecuencia:{} Hz'.format((ff[1]-ff[0])))\n",
    "\n",
    "error_vector[0] = (np.abs((f0 + delta) - ff[max_freq_value[0][0]])/(f0 + delta))*100\n",
    "print('Error Metodo Frecuencia Maxima:{} [%]'.format(error_vector[0]))\n",
    "                                    \n",
    "\n"
   ]
  },
  {
   "cell_type": "code",
   "execution_count": 28,
   "metadata": {},
   "outputs": [
    {
     "data": {
      "image/png": "[encoded data removed]",
      "text/plain": [
       "<Figure size 432x288 with 1 Axes>"
      ]
     },
     "metadata": {
      "needs_background": "light"
     },
     "output_type": "display_data"
    },
    {
     "data": {
      "image/png": "[encoded data removed]",
      "text/plain": [
       "<Figure size 432x288 with 1 Axes>"
      ]
     },
     "metadata": {
      "needs_background": "light"
     },
     "output_type": "display_data"
    },
    {
     "data": {
      "image/png": "[encoded data removed]",
      "text/plain": [
       "<Figure size 432x288 with 1 Axes>"
      ]
     },
     "metadata": {
      "needs_background": "light"
     },
     "output_type": "display_data"
    },
    {
     "name": "stdout",
     "output_type": "stream",
     "text": [
      "Zero Padding de N//10\n",
      "Frecuencia Target es: 250.5 Hz\n",
      "Frecuencia donde se encuentra el maximo: 250.91 Hz\n",
      "Centro de masa de la frecuencia 250.31\n",
      "Paso de frecuencia:0.9090909090909091 Hz\n",
      "Error Metodo Frecuencia Maxima:0.16330974414806648 [%]\n"
     ]
    }
   ],
   "source": [
    "# Inserte aquí su código\n",
    "\n",
    "fs = 1000\n",
    "ts = 1/fs\n",
    "f0 = fs/4\n",
    "delta = 0.5\n",
    "N  = 1000\n",
    "a0 = 1\n",
    "p0 = 0\n",
    "\n",
    "#Generar la senoidal\n",
    "(tt,signal) = generador_senoidal(fs , f0 + delta , N , a0 , p0 );\n",
    "\n",
    "#Realizo el zero padding\n",
    "signal = np.pad(signal,(0,N//10),'constant')\n",
    "tt = np.linspace(0,(len(signal)-1)*ts, len(signal)).flatten()\n",
    "\n",
    "#Hago un plot de la señal senoidal\n",
    "plt.figure(1)\n",
    "line_hdls = plt.plot(tt,signal)\n",
    "plt.title('Señal: ' + 'Senoidal')\n",
    "plt.xlabel('tiempo [segundos]')\n",
    "plt.ylabel('Amplitud [V]')\n",
    "plt.show()\n",
    "\n",
    "(ff,half_fft) = simple_fft(signal,fs,len(signal))\n",
    "\n",
    "#Hago el ploteo de la FFT\n",
    "plt.figure(2)\n",
    "plt.stem(ff,half_fft)\n",
    "plt.title('Espectro de la señal haciendo FFT')\n",
    "plt.xlabel('Frecuencia [Hz]')\n",
    "plt.ylabel('Magnitud Normalizada')\n",
    "plt.show()\n",
    "\n",
    "#Hacemos un zoom de la FFT\n",
    "plt.figure(3)\n",
    "plt.stem(ff[260:290],half_fft[260:290])\n",
    "plt.title('Espectro de la señal haciendo FFT')\n",
    "plt.xlabel('Frecuencia [Hz]')\n",
    "plt.ylabel('Magnitud Normalizada')\n",
    "plt.show()\n",
    "\n",
    "\n",
    "max_mag_value = np.amax(half_fft);\n",
    "max_freq_value = np.where(half_fft == max_mag_value)\n",
    "\n",
    "print('Zero Padding de N//10')\n",
    "print('Frecuencia Target es: {} Hz'.format(f0 + delta))\n",
    "print('Frecuencia donde se encuentra el maximo: {} Hz'.format(round(ff[max_freq_value[0][0]],2)))\n",
    "print('Centro de masa de la frecuencia {}'.format(round(center_of_mass_fft(ff,half_fft),2)))\n",
    "print('Paso de frecuencia:{} Hz'.format((ff[1]-ff[0])))\n",
    "\n",
    "error_vector[2] = (np.abs((f0 + delta) - ff[max_freq_value[0][0]])/(f0 + delta))*100\n",
    "print('Error Metodo Frecuencia Maxima:{} [%]'.format(error_vector[2]))\n",
    "\n"
   ]
  },
  {
   "cell_type": "code",
   "execution_count": 29,
   "metadata": {},
   "outputs": [
    {
     "data": {
      "image/png": "[encoded data removed]",
      "text/plain": [
       "<Figure size 432x288 with 1 Axes>"
      ]
     },
     "metadata": {
      "needs_background": "light"
     },
     "output_type": "display_data"
    },
    {
     "data": {
      "image/png": "[encoded data removed]",
      "text/plain": [
       "<Figure size 432x288 with 1 Axes>"
      ]
     },
     "metadata": {
      "needs_background": "light"
     },
     "output_type": "display_data"
    },
    {
     "data": {
      "image/png": "[encoded data removed]",
      "text/plain": [
       "<Figure size 432x288 with 1 Axes>"
      ]
     },
     "metadata": {
      "needs_background": "light"
     },
     "output_type": "display_data"
    },
    {
     "name": "stdout",
     "output_type": "stream",
     "text": [
      "Zero Padding de N//10\n",
      "Frecuencia Target es: 250.5 Hz\n",
      "Frecuencia donde se encuentra el maximo: 250.5 Hz\n",
      "Centro de masa de la frecuencia 250.38\n",
      "Paso de frecuencia:0.5 Hz\n",
      "Error Metodo Frecuencia Maxima:0.0 [%]\n"
     ]
    }
   ],
   "source": [
    "# Inserte aquí su código\n",
    "\n",
    "fs = 1000\n",
    "ts = 1/fs\n",
    "f0 = fs/4\n",
    "delta = 0.5\n",
    "N  = 1000\n",
    "a0 = 1\n",
    "p0 = 0\n",
    "\n",
    "#Generar la senoidal\n",
    "(tt,signal) = generador_senoidal(fs , f0 + delta , N , a0 , p0 );\n",
    "\n",
    "#Realizo el zero padding\n",
    "signal = np.pad(signal,(0,N),'constant')\n",
    "tt = np.linspace(0,(len(signal)-1)*ts, len(signal)).flatten()\n",
    "\n",
    "#Hago un plot de la señal senoidal\n",
    "plt.figure(1)\n",
    "line_hdls = plt.plot(tt,signal)\n",
    "plt.title('Señal: ' + 'Senoidal')\n",
    "plt.xlabel('tiempo [segundos]')\n",
    "plt.ylabel('Amplitud [V]')\n",
    "plt.show()\n",
    "\n",
    "(ff,half_fft) = simple_fft(signal,fs,len(signal))\n",
    "\n",
    "#Hago el ploteo de la FFT\n",
    "plt.figure(2)\n",
    "plt.stem(ff,half_fft)\n",
    "plt.title('Espectro de la señal haciendo FFT')\n",
    "plt.xlabel('Frecuencia [Hz]')\n",
    "plt.ylabel('Magnitud Normalizada')\n",
    "plt.show()\n",
    "\n",
    "\n",
    "#Hago un zoom\n",
    "plt.figure(3)\n",
    "plt.stem(ff[460:540],half_fft[460:540])\n",
    "plt.title('Espectro de la señal haciendo FFT')\n",
    "plt.xlabel('Frecuencia [Hz]')\n",
    "plt.ylabel('Magnitud Normalizada')\n",
    "plt.show()\n",
    "\n",
    "max_mag_value = np.amax(half_fft);\n",
    "max_freq_value = np.where(half_fft == max_mag_value)\n",
    "\n",
    "print('Zero Padding de N//10')\n",
    "print('Frecuencia Target es: {} Hz'.format(f0 + delta))\n",
    "print('Frecuencia donde se encuentra el maximo: {} Hz'.format(round(ff[max_freq_value[0][0]],2)))\n",
    "print('Centro de masa de la frecuencia {}'.format(round(center_of_mass_fft(ff,half_fft),2)))\n",
    "print('Paso de frecuencia:{} Hz'.format((ff[1]-ff[0])))\n",
    "\n",
    "error_vector[2] = (np.abs((f0 + delta) - ff[max_freq_value[0][0]])/(f0 + delta))*100\n",
    "print('Error Metodo Frecuencia Maxima:{} [%]'.format(error_vector[2]))\n",
    "\n"
   ]
  },
  {
   "cell_type": "code",
   "execution_count": 30,
   "metadata": {},
   "outputs": [
    {
     "data": {
      "image/png": "[encoded data removed]",
      "text/plain": [
       "<Figure size 432x288 with 1 Axes>"
      ]
     },
     "metadata": {
      "needs_background": "light"
     },
     "output_type": "display_data"
    },
    {
     "data": {
      "image/png": "[encoded data removed]",
      "text/plain": [
       "<Figure size 432x288 with 1 Axes>"
      ]
     },
     "metadata": {
      "needs_background": "light"
     },
     "output_type": "display_data"
    },
    {
     "name": "stdout",
     "output_type": "stream",
     "text": [
      "Zero Padding de N//10\n",
      "Frecuencia Target es: 250.5 Hz\n",
      "Frecuencia donde se encuentra el maximo: 250.5455 Hz\n",
      "Centro de masa de la frecuencia 250.447\n",
      "Paso de frecuencia:0.09090909090909091 Hz\n",
      "Error Metodo Frecuencia Maxima:0.018145527127569245 [%]\n"
     ]
    }
   ],
   "source": [
    "# Inserte aquí su código\n",
    "\n",
    "fs = 1000\n",
    "ts = 1/fs\n",
    "f0 = fs/4\n",
    "delta = 0.5\n",
    "N  = 1000\n",
    "a0 = 1\n",
    "p0 = 0\n",
    "\n",
    "#Generar la senoidal\n",
    "(tt,signal) = generador_senoidal(fs , f0 + delta , N , a0 , p0 );\n",
    "\n",
    "#Realizo el zero padding\n",
    "signal = np.pad(signal,(0,N*10),'constant')\n",
    "tt = np.linspace(0,(len(signal)-1)*ts, len(signal)).flatten()\n",
    "\n",
    "#Hago un plot de la señal senoidal\n",
    "plt.figure(1)\n",
    "line_hdls = plt.plot(tt,signal)\n",
    "plt.title('Señal: ' + 'Senoidal')\n",
    "plt.xlabel('tiempo [segundos]')\n",
    "plt.ylabel('Amplitud [V]')\n",
    "plt.show()\n",
    "\n",
    "(ff,half_fft) = simple_fft(signal,fs,len(signal))\n",
    "\n",
    "#Hago el ploteo de la FFT\n",
    "plt.figure(2)\n",
    "plt.stem(ff,half_fft)\n",
    "plt.title('Espectro de la señal haciendo DFT')\n",
    "plt.xlabel('Frecuencia [Hz]')\n",
    "plt.ylabel('Magnitud Normalizada')\n",
    "plt.show()\n",
    "\n",
    "max_mag_value = np.amax(half_fft);\n",
    "max_freq_value = np.where(half_fft == max_mag_value)\n",
    "\n",
    "print('Zero Padding de N//10')\n",
    "print('Frecuencia Target es: {} Hz'.format(f0 + delta))\n",
    "print('Frecuencia donde se encuentra el maximo: {} Hz'.format(round(ff[max_freq_value[0][0]],4)))\n",
    "print('Centro de masa de la frecuencia {}'.format(round(center_of_mass_fft(ff,half_fft),4)))\n",
    "print('Paso de frecuencia:{} Hz'.format((ff[1]-ff[0])))\n",
    "\n",
    "error_vector[3] = (np.abs((f0 + delta) - ff[max_freq_value[0][0]])/(f0 + delta))*100\n",
    "print('Error Metodo Frecuencia Maxima:{} [%]'.format(error_vector[3]))\n",
    "\n"
   ]
  },
  {
   "cell_type": "markdown",
   "metadata": {},
   "source": [
    "**3.c)** ¿Ha variado la resolución espectral en los casos de 3.b?"
   ]
  },
  {
   "cell_type": "markdown",
   "metadata": {},
   "source": [
    "<div class=\"alert alert-block alert-warning\">\n",
    "<b>Respuesta:</b> La resolucion espectro aumenta dependiendo de cuantos ceros se agreguen, no quiere decir que se agregue informacion, el espectro en si se ve distorsionado como desplazado en el tiempo por un sinc.\n",
    "</div>"
   ]
  },
  {
   "cell_type": "markdown",
   "metadata": {},
   "source": [
    "**3.d)** ¿Cuál es el efecto que se produce en cada caso? Esta técnica se conoce como Zero padding."
   ]
  },
  {
   "cell_type": "markdown",
   "metadata": {},
   "source": [
    "<div class=\"alert alert-block alert-warning\">\n",
    "<b>Respuesta:</b> En el caso N/10 la resolucion espectral baja a 0.91 con lo cual el valor 250.5Hz queda mas cerca de 250.91. Con N la resolucion espectral baja a 0.5 con lo cual la frecuencia de 250.5Hz cae justo donde tiene que caer. Con lo cual el maximo da en dicho lugar. Con N*10 tenemos un error mas alto ya que un bin no cae en la frecuencia target. Pero seguimos estando cerca.\n",
    "</div>"
   ]
  },
  {
   "cell_type": "markdown",
   "metadata": {},
   "source": [
    "**3.e)** Analice cuál es la frecuencia  $\\hat{f}_0 = \\mathop{arg\\ max}_f \\{\\lvert X(f) \\rvert \\}$ a la que ocurre el máximo del espectro y en cuánto difiere de $f_0$ en términos porcentuales."
   ]
  },
  {
   "cell_type": "code",
   "execution_count": 31,
   "metadata": {},
   "outputs": [
    {
     "data": {
      "text/html": [
       "<table border=\"1\" class=\"dataframe\">\n",
       "  <thead>\n",
       "    <tr style=\"text-align: right;\">\n",
       "      <th></th>\n",
       "      <th>$e_\\%$</th>\n",
       "    </tr>\n",
       "  </thead>\n",
       "  <tbody>\n",
       "    <tr>\n",
       "      <th>0</th>\n",
       "      <td>0.1996</td>\n",
       "    </tr>\n",
       "    <tr>\n",
       "      <th>$N/10$</th>\n",
       "      <td>0.0</td>\n",
       "    </tr>\n",
       "    <tr>\n",
       "      <th>$N$</th>\n",
       "      <td>0.0</td>\n",
       "    </tr>\n",
       "    <tr>\n",
       "      <th>$10N$</th>\n",
       "      <td>0.0181</td>\n",
       "    </tr>\n",
       "  </tbody>\n",
       "</table>"
      ],
      "text/plain": [
       "<IPython.core.display.HTML object>"
      ]
     },
     "execution_count": 31,
     "metadata": {},
     "output_type": "execute_result"
    }
   ],
   "source": [
    "#######################################\n",
    "# Tu simulación que genere resultados #\n",
    "#######################################\n",
    "\n",
    "tus_resultados = ['{}'.format(round(error_vector[0],4)), # <-- acá debería haber numeritos :)\n",
    "                  '{}'.format(round(error_vector[1],4)), # <-- acá debería haber numeritos :)\n",
    "                  '{}'.format(round(error_vector[2],4)), # <-- acá debería haber numeritos :)\n",
    "                  '{}'.format(round(error_vector[3],4)) # <-- acá debería haber numeritos :)\n",
    "                 ]\n",
    "df = DataFrame(tus_resultados, columns=['$e_\\%$'],\n",
    "               index=['0',\n",
    "                      '$N/10$', \n",
    "                      '$N$', \n",
    "                      '$10N$'])\n",
    "HTML(df.to_html())\n"
   ]
  },
  {
   "cell_type": "markdown",
   "metadata": {},
   "source": [
    "<div class=\"alert alert-block alert-info\">\n",
    "<b>4)</b> \n",
    "Para cada señal propuesta complete los valores que se indican en las siguientes consignas.\n",
    "</div>"
   ]
  },
  {
   "cell_type": "markdown",
   "metadata": {},
   "source": [
    "+ En la tabla de resultados de cada inciso, en la fila indicada con **predicción** responda conceptualmente qué contenido espectral debería obtener tras evaluar su FFT (sin realizar ninguna simulación).\n",
    "+ Calcule su espectro y discuta la predicción con los resultados obtenidos de la **simulación**. Intente discutir las diferencias si las hubiera en las respuestas de cada inciso.\n",
    "+ Preste especial atención en su discusión a:\n",
    "  * La energía total de la señal\n",
    "  * La energía del tono en particular\n",
    "  * La localización del tono en el espectro\n",
    "+ Siga las indicaciones particulares para cada señal.\n"
   ]
  },
  {
   "cell_type": "markdown",
   "metadata": {},
   "source": [
    "<div class=\"alert alert-block alert-success\">\n",
    "<b>Ayuda:</b> Las siguientes señales pueden generarse a partir de una senoidal *patrón* siguiendo las consignas de la derecha. \n",
    "</div>"
   ]
  },
  {
   "cell_type": "markdown",
   "metadata": {},
   "source": [
    "<table width=\"80%\" cellpadding=\"7\" cellspacing=\"0\">\n",
    "\t<col width=\"50%\">\n",
    "\t<col width=\"50%\">\n",
    "\t<tbody>\n",
    "\t\t<tr valign=\"top\">\n",
    "\t\t\t<td width=\"296\" style=\"border-top: none; border-bottom: none; border-left: none; border-right: none; padding: 0cm\">\n",
    "\t\t\t\t<p>\n",
    "                    <img src=\"./1.png\" align=\"left\" width=\"100%\" /> \n",
    "                </p>\n",
    "\t\t\t</td>\n",
    "\t\t\t<td width=\"267\" style=\"border-top: none; border-bottom: none; border-left: none; border-right: none; padding-top: 0cm; padding-bottom: 0cm; padding-left: 0.19cm; padding-right: 0cm\">\n",
    "\t\t\t\t<p style=\"margin-bottom: 0cm\"><span lang=\"es-AR\">4.a) Senoidal\n",
    "\t\t\t\tde **energía normalizada** y frecuencia $f_0 = 9 \\cdot f_S/N$. </span></font>\n",
    "\t\t\t\t</p>\n",
    "\t\t\t</td>\n",
    "\t\t</tr>\n",
    "\t</tbody>\n",
    "</table>\n",
    "        "
   ]
  },
  {
   "cell_type": "code",
   "execution_count": 32,
   "metadata": {},
   "outputs": [
    {
     "data": {
      "text/html": [
       "<table border=\"1\" class=\"dataframe\">\n",
       "  <thead>\n",
       "    <tr style=\"text-align: right;\">\n",
       "      <th></th>\n",
       "      <th>Energía total</th>\n",
       "      <th>Energía en $f_0$</th>\n",
       "      <th>Máximo de Energía</th>\n",
       "    </tr>\n",
       "  </thead>\n",
       "  <tbody>\n",
       "    <tr>\n",
       "      <th>$f_0$ \\ expr. matemática</th>\n",
       "      <td>$\\sum_{f=0}^{f_S/2} \\lvert X(f) \\rvert ^2$</td>\n",
       "      <td>$ \\lvert X(f_0) \\rvert ^2 $</td>\n",
       "      <td>$ \\mathop{arg\\ max}_f \\{\\lvert X(f) \\rvert ^2\\} $</td>\n",
       "    </tr>\n",
       "    <tr>\n",
       "      <th></th>\n",
       "      <td></td>\n",
       "      <td></td>\n",
       "      <td>$f \\in [0:f_S/2]$</td>\n",
       "    </tr>\n",
       "    <tr>\n",
       "      <th></th>\n",
       "      <td></td>\n",
       "      <td></td>\n",
       "      <td></td>\n",
       "    </tr>\n",
       "    <tr>\n",
       "      <th>predicción</th>\n",
       "      <td></td>\n",
       "      <td></td>\n",
       "      <td></td>\n",
       "    </tr>\n",
       "    <tr>\n",
       "      <th></th>\n",
       "      <td></td>\n",
       "      <td></td>\n",
       "      <td></td>\n",
       "    </tr>\n",
       "    <tr>\n",
       "      <th>simulación</th>\n",
       "      <td></td>\n",
       "      <td></td>\n",
       "      <td></td>\n",
       "    </tr>\n",
       "  </tbody>\n",
       "</table>"
      ],
      "text/plain": [
       "<IPython.core.display.HTML object>"
      ]
     },
     "execution_count": 32,
     "metadata": {},
     "output_type": "execute_result"
    }
   ],
   "source": [
    "#######################################\n",
    "# Tu simulación que genere resultados #\n",
    "#######################################\n",
    "\n",
    "tus_resultados = [ ['$\\sum_{f=0}^{f_S/2} \\lvert X(f) \\rvert ^2$', '$ \\lvert X(f_0) \\rvert ^2 $', '$ \\mathop{arg\\ max}_f \\{\\lvert X(f) \\rvert ^2\\} $'], \n",
    "                   ['',                                     '',                           '$f \\in [0:f_S/2]$'], \n",
    "                  ['', '', ''], \n",
    "                  ['', '', ''], # <-- completar acá\n",
    "                  ['', '', ''], \n",
    "                  ['', '', '']  # <-- completar acá\n",
    "                 ]\n",
    "df = DataFrame(tus_resultados, columns=['Energía total', 'Energía en $f_0$', 'Máximo de Energía'],\n",
    "               index=['$f_0$ \\ expr. matemática', \n",
    "                      '', \n",
    "                      '', \n",
    "                      'predicción', \n",
    "                      '', \n",
    "                      'simulación'])\n",
    "HTML(df.to_html())\n"
   ]
  },
  {
   "cell_type": "markdown",
   "metadata": {},
   "source": [
    "<table width=\"80%\" cellpadding=\"7\" cellspacing=\"0\">\n",
    "\t<col width=\"50%\">\n",
    "\t<col width=\"50%\">\n",
    "\t<tbody>\n",
    "\t\t<tr valign=\"top\">\n",
    "\t\t\t<td width=\"296\" style=\"border-top: none; border-bottom: none; border-left: none; border-right: none; padding: 0cm\">\n",
    "\t\t\t\t<p>\n",
    "                    <img src=\"./2.png\" align=\"left\" width=\"100%\" /> \n",
    "                </p>\n",
    "\t\t\t</td>\n",
    "\t\t\t<td width=\"267\" style=\"border-top: none; border-bottom: none; border-left: none; border-right: none; padding-top: 0cm; padding-bottom: 0cm; padding-left: 0.19cm; padding-right: 0cm\">\n",
    "\t\t\t\t<p style=\"margin-bottom: 0cm\"><span lang=\"es-AR\">4.b) **1 solo ciclo** de la misma senoidal\n",
    "\t\t\t\tde **energía normalizada** y frecuencia $f_0 = 9 \\cdot f_S/N$. </span></font>\n",
    "\t\t\t\t</p>\n",
    "\t\t\t</td>\n",
    "\t\t</tr>\n",
    "\t</tbody>\n",
    "</table>\n",
    "        "
   ]
  },
  {
   "cell_type": "code",
   "execution_count": 33,
   "metadata": {},
   "outputs": [
    {
     "data": {
      "text/html": [
       "<table border=\"1\" class=\"dataframe\">\n",
       "  <thead>\n",
       "    <tr style=\"text-align: right;\">\n",
       "      <th></th>\n",
       "      <th>Energía total</th>\n",
       "      <th>Energía en $f_0$</th>\n",
       "      <th>Máximo de Energía</th>\n",
       "    </tr>\n",
       "  </thead>\n",
       "  <tbody>\n",
       "    <tr>\n",
       "      <th>$f_0$ \\ expr. matemática</th>\n",
       "      <td>$\\sum_{f=0}^{f_S/2} \\lvert X(f) \\rvert ^2$</td>\n",
       "      <td>$ \\lvert X(f_0) \\rvert ^2 $</td>\n",
       "      <td>$ \\mathop{arg\\ max}_f \\{\\lvert X(f) \\rvert ^2\\} $</td>\n",
       "    </tr>\n",
       "    <tr>\n",
       "      <th></th>\n",
       "      <td></td>\n",
       "      <td></td>\n",
       "      <td>$f \\in [0:f_S/2]$</td>\n",
       "    </tr>\n",
       "    <tr>\n",
       "      <th></th>\n",
       "      <td></td>\n",
       "      <td></td>\n",
       "      <td></td>\n",
       "    </tr>\n",
       "    <tr>\n",
       "      <th>predicción</th>\n",
       "      <td></td>\n",
       "      <td></td>\n",
       "      <td></td>\n",
       "    </tr>\n",
       "    <tr>\n",
       "      <th></th>\n",
       "      <td></td>\n",
       "      <td></td>\n",
       "      <td></td>\n",
       "    </tr>\n",
       "    <tr>\n",
       "      <th>simulación</th>\n",
       "      <td></td>\n",
       "      <td></td>\n",
       "      <td></td>\n",
       "    </tr>\n",
       "  </tbody>\n",
       "</table>"
      ],
      "text/plain": [
       "<IPython.core.display.HTML object>"
      ]
     },
     "execution_count": 33,
     "metadata": {},
     "output_type": "execute_result"
    }
   ],
   "source": [
    "#######################################\n",
    "# Tu simulación que genere resultados #\n",
    "#######################################\n",
    "\n",
    "tus_resultados = [ ['$\\sum_{f=0}^{f_S/2} \\lvert X(f) \\rvert ^2$', '$ \\lvert X(f_0) \\rvert ^2 $', '$ \\mathop{arg\\ max}_f \\{\\lvert X(f) \\rvert ^2\\} $'], \n",
    "                   ['',                                     '',                           '$f \\in [0:f_S/2]$'], \n",
    "                  ['', '', ''], \n",
    "                  ['', '', ''], # <-- completar acá\n",
    "                  ['', '', ''], \n",
    "                  ['', '', '']  # <-- completar acá\n",
    "                 ]\n",
    "df = DataFrame(tus_resultados, columns=['Energía total', 'Energía en $f_0$', 'Máximo de Energía'],\n",
    "               index=['$f_0$ \\ expr. matemática', \n",
    "                      '', \n",
    "                      '', \n",
    "                      'predicción', \n",
    "                      '', \n",
    "                      'simulación'])\n",
    "HTML(df.to_html())\n"
   ]
  },
  {
   "cell_type": "markdown",
   "metadata": {},
   "source": [
    "Observe el resultado y compare sus resultados con el punto anterior. ¿Qué ha cambiado? ¿Cuánto vale la energía de un solo ciclo de senoidal respecto al caso anterior?"
   ]
  },
  {
   "cell_type": "markdown",
   "metadata": {},
   "source": [
    "<div class=\"alert alert-block alert-warning\">\n",
    "<b>Respuesta:</b> Escriba aquí su respuesta.\n",
    "</div>"
   ]
  },
  {
   "cell_type": "markdown",
   "metadata": {},
   "source": [
    "<table width=\"80%\" cellpadding=\"7\" cellspacing=\"0\">\n",
    "\t<col width=\"50%\">\n",
    "\t<col width=\"50%\">\n",
    "\t<tbody>\n",
    "\t\t<tr valign=\"top\">\n",
    "\t\t\t<td width=\"296\" style=\"border-top: none; border-bottom: none; border-left: none; border-right: none; padding: 0cm\">\n",
    "\t\t\t\t<p>\n",
    "                    <img src=\"./3.png\" align=\"left\" width=\"100%\" /> \n",
    "                </p>\n",
    "\t\t\t</td>\n",
    "\t\t\t<td width=\"267\" style=\"border-top: none; border-bottom: none; border-left: none; border-right: none; padding-top: 0cm; padding-bottom: 0cm; padding-left: 0.19cm; padding-right: 0cm\">\n",
    "\t\t\t\t<p style=\"margin-bottom: 0cm\"><span lang=\"es-AR\">4.c) 1 solo ciclo de la misma senoidal\n",
    "\t\t\t\tde energía normalizada y frecuencia $f_0 = 9 \\cdot f_S/N$ **pero demorado un tiempo igual a dos ciclos**. </span></font>\n",
    "\t\t\t\t</p>\n",
    "\t\t\t</td>\n",
    "\t\t</tr>\n",
    "\t</tbody>\n",
    "</table>\n",
    "        "
   ]
  },
  {
   "cell_type": "code",
   "execution_count": 34,
   "metadata": {},
   "outputs": [
    {
     "data": {
      "text/html": [
       "<table border=\"1\" class=\"dataframe\">\n",
       "  <thead>\n",
       "    <tr style=\"text-align: right;\">\n",
       "      <th></th>\n",
       "      <th>Energía total</th>\n",
       "      <th>Energía en $f_0$</th>\n",
       "      <th>Máximo de Energía</th>\n",
       "    </tr>\n",
       "  </thead>\n",
       "  <tbody>\n",
       "    <tr>\n",
       "      <th>$f_0$ \\ expr. matemática</th>\n",
       "      <td>$\\sum_{f=0}^{f_S/2} \\lvert X(f) \\rvert ^2$</td>\n",
       "      <td>$ \\lvert X(f_0) \\rvert ^2 $</td>\n",
       "      <td>$ \\mathop{arg\\ max}_f \\{\\lvert X(f) \\rvert ^2\\} $</td>\n",
       "    </tr>\n",
       "    <tr>\n",
       "      <th></th>\n",
       "      <td></td>\n",
       "      <td></td>\n",
       "      <td>$f \\in [0:f_S/2]$</td>\n",
       "    </tr>\n",
       "    <tr>\n",
       "      <th></th>\n",
       "      <td></td>\n",
       "      <td></td>\n",
       "      <td></td>\n",
       "    </tr>\n",
       "    <tr>\n",
       "      <th>predicción</th>\n",
       "      <td></td>\n",
       "      <td></td>\n",
       "      <td></td>\n",
       "    </tr>\n",
       "    <tr>\n",
       "      <th></th>\n",
       "      <td></td>\n",
       "      <td></td>\n",
       "      <td></td>\n",
       "    </tr>\n",
       "    <tr>\n",
       "      <th>simulación</th>\n",
       "      <td></td>\n",
       "      <td></td>\n",
       "      <td></td>\n",
       "    </tr>\n",
       "  </tbody>\n",
       "</table>"
      ],
      "text/plain": [
       "<IPython.core.display.HTML object>"
      ]
     },
     "execution_count": 34,
     "metadata": {},
     "output_type": "execute_result"
    }
   ],
   "source": [
    "#######################################\n",
    "# Tu simulación que genere resultados #\n",
    "#######################################\n",
    "\n",
    "tus_resultados = [ ['$\\sum_{f=0}^{f_S/2} \\lvert X(f) \\rvert ^2$', '$ \\lvert X(f_0) \\rvert ^2 $', '$ \\mathop{arg\\ max}_f \\{\\lvert X(f) \\rvert ^2\\} $'], \n",
    "                   ['',                                     '',                           '$f \\in [0:f_S/2]$'], \n",
    "                  ['', '', ''], \n",
    "                  ['', '', ''], # <-- completar acá\n",
    "                  ['', '', ''], \n",
    "                  ['', '', '']  # <-- completar acá\n",
    "                 ]\n",
    "df = DataFrame(tus_resultados, columns=['Energía total', 'Energía en $f_0$', 'Máximo de Energía'],\n",
    "               index=['$f_0$ \\ expr. matemática', \n",
    "                      '', \n",
    "                      '', \n",
    "                      'predicción', \n",
    "                      '', \n",
    "                      'simulación'])\n",
    "HTML(df.to_html())\n"
   ]
  },
  {
   "cell_type": "markdown",
   "metadata": {},
   "source": [
    "En este caso, ¿Qué ha cambiado respecto al anterior? ¿Cómo se manifiesta en el dominio frecuencial?"
   ]
  },
  {
   "cell_type": "markdown",
   "metadata": {},
   "source": [
    "<div class=\"alert alert-block alert-warning\">\n",
    "<b>Respuesta:</b> Escriba aquí su respuesta.\n",
    "</div>"
   ]
  },
  {
   "cell_type": "markdown",
   "metadata": {},
   "source": [
    "<table width=\"80%\" cellpadding=\"7\" cellspacing=\"0\">\n",
    "\t<col width=\"50%\">\n",
    "\t<col width=\"50%\">\n",
    "\t<tbody>\n",
    "\t\t<tr valign=\"top\">\n",
    "\t\t\t<td width=\"296\" style=\"border-top: none; border-bottom: none; border-left: none; border-right: none; padding: 0cm\">\n",
    "\t\t\t\t<p>\n",
    "                    <img src=\"./4.png\" align=\"left\" width=\"100%\" /> \n",
    "                </p>\n",
    "\t\t\t</td>\n",
    "\t\t\t<td width=\"267\" style=\"border-top: none; border-bottom: none; border-left: none; border-right: none; padding-top: 0cm; padding-bottom: 0cm; padding-left: 0.19cm; padding-right: 0cm\">\n",
    "\t\t\t\t<p style=\"margin-bottom: 0cm\"><span lang=\"es-AR\">4.d) 1 solo ciclo de la misma senoidal utilizada hasta ahora, y otro ciclo de idénticas características pero de $f_1 = 8 \\cdot f_S/N$ y demorado aproximadamente como se observa a la izquierda. </span></font>\n",
    "\t\t\t\t</p>\n",
    "\t\t\t</td>\n",
    "\t\t</tr>\n",
    "\t</tbody>\n",
    "</table>\n",
    "        "
   ]
  },
  {
   "cell_type": "code",
   "execution_count": 35,
   "metadata": {},
   "outputs": [
    {
     "data": {
      "text/html": [
       "<table border=\"1\" class=\"dataframe\">\n",
       "  <thead>\n",
       "    <tr style=\"text-align: right;\">\n",
       "      <th></th>\n",
       "      <th>Energía total</th>\n",
       "      <th>Energía en $f_0$</th>\n",
       "      <th>Máximo de Energía</th>\n",
       "    </tr>\n",
       "  </thead>\n",
       "  <tbody>\n",
       "    <tr>\n",
       "      <th>$f_0$ \\ expr. matemática</th>\n",
       "      <td>$\\sum_{f=0}^{f_S/2} \\lvert X(f) \\rvert ^2$</td>\n",
       "      <td>$ \\lvert X(f_0) \\rvert ^2 $</td>\n",
       "      <td>$ \\mathop{arg\\ max}_f \\{\\lvert X(f) \\rvert ^2\\} $</td>\n",
       "    </tr>\n",
       "    <tr>\n",
       "      <th></th>\n",
       "      <td></td>\n",
       "      <td></td>\n",
       "      <td>$f \\in [0:f_S/2]$</td>\n",
       "    </tr>\n",
       "    <tr>\n",
       "      <th></th>\n",
       "      <td></td>\n",
       "      <td></td>\n",
       "      <td></td>\n",
       "    </tr>\n",
       "    <tr>\n",
       "      <th>predicción</th>\n",
       "      <td></td>\n",
       "      <td></td>\n",
       "      <td></td>\n",
       "    </tr>\n",
       "    <tr>\n",
       "      <th></th>\n",
       "      <td></td>\n",
       "      <td></td>\n",
       "      <td></td>\n",
       "    </tr>\n",
       "    <tr>\n",
       "      <th>simulación</th>\n",
       "      <td></td>\n",
       "      <td></td>\n",
       "      <td></td>\n",
       "    </tr>\n",
       "  </tbody>\n",
       "</table>"
      ],
      "text/plain": [
       "<IPython.core.display.HTML object>"
      ]
     },
     "execution_count": 35,
     "metadata": {},
     "output_type": "execute_result"
    }
   ],
   "source": [
    "#######################################\n",
    "# Tu simulación que genere resultados #\n",
    "#######################################\n",
    "\n",
    "tus_resultados = [ ['$\\sum_{f=0}^{f_S/2} \\lvert X(f) \\rvert ^2$', '$ \\lvert X(f_0) \\rvert ^2 $', '$ \\mathop{arg\\ max}_f \\{\\lvert X(f) \\rvert ^2\\} $'], \n",
    "                   ['',                                     '',                           '$f \\in [0:f_S/2]$'], \n",
    "                  ['', '', ''], \n",
    "                  ['', '', ''], # <-- completar acá\n",
    "                  ['', '', ''], \n",
    "                  ['', '', '']  # <-- completar acá\n",
    "                 ]\n",
    "df = DataFrame(tus_resultados, columns=['Energía total', 'Energía en $f_0$', 'Máximo de Energía'],\n",
    "               index=['$f_0$ \\ expr. matemática', \n",
    "                      '', \n",
    "                      '', \n",
    "                      'predicción', \n",
    "                      '', \n",
    "                      'simulación'])\n",
    "HTML(df.to_html())\n"
   ]
  },
  {
   "cell_type": "markdown",
   "metadata": {},
   "source": [
    "¿Puede localizar ambas componentes en este espectro? ¿Cómo lo haría?"
   ]
  },
  {
   "cell_type": "markdown",
   "metadata": {},
   "source": [
    "<div class=\"alert alert-block alert-warning\">\n",
    "<b>Respuesta:</b> Escriba aquí su respuesta.\n",
    "</div>"
   ]
  },
  {
   "cell_type": "markdown",
   "metadata": {},
   "source": [
    "<table width=\"80%\" cellpadding=\"7\" cellspacing=\"0\">\n",
    "\t<col width=\"50%\">\n",
    "\t<col width=\"50%\">\n",
    "\t<tbody>\n",
    "\t\t<tr valign=\"top\">\n",
    "\t\t\t<td width=\"296\" style=\"border-top: none; border-bottom: none; border-left: none; border-right: none; padding: 0cm\">\n",
    "\t\t\t\t<p>\n",
    "                    <img src=\"./5.png\" align=\"left\" width=\"100%\" /> \n",
    "                </p>\n",
    "\t\t\t</td>\n",
    "\t\t\t<td width=\"267\" style=\"border-top: none; border-bottom: none; border-left: none; border-right: none; padding-top: 0cm; padding-bottom: 0cm; padding-left: 0.19cm; padding-right: 0cm\">\n",
    "\t\t\t\t<p style=\"margin-bottom: 0cm\"><span lang=\"es-AR\">4.e) Idéntico al caso anterior salvo que se invierte la ocurrencia de las señales. </span></font>\n",
    "\t\t\t\t</p>\n",
    "\t\t\t</td>\n",
    "\t\t</tr>\n",
    "\t</tbody>\n",
    "</table>\n",
    "        "
   ]
  },
  {
   "cell_type": "code",
   "execution_count": 36,
   "metadata": {},
   "outputs": [
    {
     "data": {
      "text/html": [
       "<table border=\"1\" class=\"dataframe\">\n",
       "  <thead>\n",
       "    <tr style=\"text-align: right;\">\n",
       "      <th></th>\n",
       "      <th>Energía total</th>\n",
       "      <th>Energía en $f_0$</th>\n",
       "      <th>Máximo de Energía</th>\n",
       "    </tr>\n",
       "  </thead>\n",
       "  <tbody>\n",
       "    <tr>\n",
       "      <th>$f_0$ \\ expr. matemática</th>\n",
       "      <td>$\\sum_{f=0}^{f_S/2} \\lvert X(f) \\rvert ^2$</td>\n",
       "      <td>$ \\lvert X(f_0) \\rvert ^2 $</td>\n",
       "      <td>$ \\mathop{arg\\ max}_f \\{\\lvert X(f) \\rvert ^2\\} $</td>\n",
       "    </tr>\n",
       "    <tr>\n",
       "      <th></th>\n",
       "      <td></td>\n",
       "      <td></td>\n",
       "      <td>$f \\in [0:f_S/2]$</td>\n",
       "    </tr>\n",
       "    <tr>\n",
       "      <th></th>\n",
       "      <td></td>\n",
       "      <td></td>\n",
       "      <td></td>\n",
       "    </tr>\n",
       "    <tr>\n",
       "      <th>predicción</th>\n",
       "      <td></td>\n",
       "      <td></td>\n",
       "      <td></td>\n",
       "    </tr>\n",
       "    <tr>\n",
       "      <th></th>\n",
       "      <td></td>\n",
       "      <td></td>\n",
       "      <td></td>\n",
       "    </tr>\n",
       "    <tr>\n",
       "      <th>simulación</th>\n",
       "      <td></td>\n",
       "      <td></td>\n",
       "      <td></td>\n",
       "    </tr>\n",
       "  </tbody>\n",
       "</table>"
      ],
      "text/plain": [
       "<IPython.core.display.HTML object>"
      ]
     },
     "execution_count": 36,
     "metadata": {},
     "output_type": "execute_result"
    }
   ],
   "source": [
    "#######################################\n",
    "# Tu simulación que genere resultados #\n",
    "#######################################\n",
    "\n",
    "tus_resultados = [ ['$\\sum_{f=0}^{f_S/2} \\lvert X(f) \\rvert ^2$', '$ \\lvert X(f_0) \\rvert ^2 $', '$ \\mathop{arg\\ max}_f \\{\\lvert X(f) \\rvert ^2\\} $'], \n",
    "                   ['',                                     '',                           '$f \\in [0:f_S/2]$'], \n",
    "                  ['', '', ''], \n",
    "                  ['', '', ''], # <-- completar acá\n",
    "                  ['', '', ''], \n",
    "                  ['', '', '']  # <-- completar acá\n",
    "                 ]\n",
    "df = DataFrame(tus_resultados, columns=['Energía total', 'Energía en $f_0$', 'Máximo de Energía'],\n",
    "               index=['$f_0$ \\ expr. matemática', \n",
    "                      '', \n",
    "                      '', \n",
    "                      'predicción', \n",
    "                      '', \n",
    "                      'simulación'])\n",
    "HTML(df.to_html())\n"
   ]
  },
  {
   "cell_type": "markdown",
   "metadata": {},
   "source": [
    "¿ha cambiado el espectro respecto al caso anterior? ¿Si solo dispone del espectro, puede decir cuál ha ocurrido antes? ¿Resulta útil el análisis de espectral mediante la transformada de Fourier en este caso?"
   ]
  },
  {
   "cell_type": "markdown",
   "metadata": {},
   "source": [
    "<div class=\"alert alert-block alert-warning\">\n",
    "<b>Respuesta:</b> Escriba aquí su respuesta.\n",
    "</div>"
   ]
  },
  {
   "cell_type": "markdown",
   "metadata": {},
   "source": [
    "<table width=\"80%\" cellpadding=\"7\" cellspacing=\"0\">\n",
    "\t<col width=\"50%\">\n",
    "\t<col width=\"50%\">\n",
    "\t<tbody>\n",
    "\t\t<tr valign=\"top\">\n",
    "\t\t\t<td width=\"296\" style=\"border-top: none; border-bottom: none; border-left: none; border-right: none; padding: 0cm\">\n",
    "\t\t\t\t<p>\n",
    "                    <img src=\"./6.png\" align=\"left\" width=\"100%\" /> \n",
    "                </p>\n",
    "\t\t\t</td>\n",
    "\t\t\t<td width=\"267\" style=\"border-top: none; border-bottom: none; border-left: none; border-right: none; padding-top: 0cm; padding-bottom: 0cm; padding-left: 0.19cm; padding-right: 0cm\">\n",
    "\t\t\t\t<p style=\"margin-bottom: 0cm\"><span lang=\"es-AR\">4.f) Arme una señal como la que se muestra a la izquierda, concatenando 3 ciclos de $f_0 = 9 \\cdot f_S/N$.</span></font>\n",
    "\t\t\t\t</p>\n",
    "\t\t\t</td>\n",
    "\t\t</tr>\n",
    "\t</tbody>\n",
    "</table>\n",
    "        "
   ]
  },
  {
   "cell_type": "code",
   "execution_count": 37,
   "metadata": {},
   "outputs": [
    {
     "data": {
      "text/html": [
       "<table border=\"1\" class=\"dataframe\">\n",
       "  <thead>\n",
       "    <tr style=\"text-align: right;\">\n",
       "      <th></th>\n",
       "      <th>Energía total</th>\n",
       "      <th>Energía en $f_0$</th>\n",
       "      <th>Máximo de Energía</th>\n",
       "    </tr>\n",
       "  </thead>\n",
       "  <tbody>\n",
       "    <tr>\n",
       "      <th>$f_0$ \\ expr. matemática</th>\n",
       "      <td>$\\sum_{f=0}^{f_S/2} \\lvert X(f) \\rvert ^2$</td>\n",
       "      <td>$ \\lvert X(f_0) \\rvert ^2 $</td>\n",
       "      <td>$ \\mathop{arg\\ max}_f \\{\\lvert X(f) \\rvert ^2\\} $</td>\n",
       "    </tr>\n",
       "    <tr>\n",
       "      <th></th>\n",
       "      <td></td>\n",
       "      <td></td>\n",
       "      <td>$f \\in [0:f_S/2]$</td>\n",
       "    </tr>\n",
       "    <tr>\n",
       "      <th></th>\n",
       "      <td></td>\n",
       "      <td></td>\n",
       "      <td></td>\n",
       "    </tr>\n",
       "    <tr>\n",
       "      <th>predicción</th>\n",
       "      <td></td>\n",
       "      <td></td>\n",
       "      <td></td>\n",
       "    </tr>\n",
       "    <tr>\n",
       "      <th></th>\n",
       "      <td></td>\n",
       "      <td></td>\n",
       "      <td></td>\n",
       "    </tr>\n",
       "    <tr>\n",
       "      <th>simulación</th>\n",
       "      <td></td>\n",
       "      <td></td>\n",
       "      <td></td>\n",
       "    </tr>\n",
       "  </tbody>\n",
       "</table>"
      ],
      "text/plain": [
       "<IPython.core.display.HTML object>"
      ]
     },
     "execution_count": 37,
     "metadata": {},
     "output_type": "execute_result"
    }
   ],
   "source": [
    "#######################################\n",
    "# Tu simulación que genere resultados #\n",
    "#######################################\n",
    "\n",
    "tus_resultados = [ ['$\\sum_{f=0}^{f_S/2} \\lvert X(f) \\rvert ^2$', '$ \\lvert X(f_0) \\rvert ^2 $', '$ \\mathop{arg\\ max}_f \\{\\lvert X(f) \\rvert ^2\\} $'], \n",
    "                   ['',                                     '',                           '$f \\in [0:f_S/2]$'], \n",
    "                  ['', '', ''], \n",
    "                  ['', '', ''], # <-- completar acá\n",
    "                  ['', '', ''], \n",
    "                  ['', '', '']  # <-- completar acá\n",
    "                 ]\n",
    "df = DataFrame(tus_resultados, columns=['Energía total', 'Energía en $f_0$', 'Máximo de Energía'],\n",
    "               index=['$f_0$ \\ expr. matemática', \n",
    "                      '', \n",
    "                      '', \n",
    "                      'predicción', \n",
    "                      '', \n",
    "                      'simulación'])\n",
    "HTML(df.to_html())\n"
   ]
  },
  {
   "cell_type": "markdown",
   "metadata": {},
   "source": [
    "¿Qué energía tiene la componente $f_0$ en el espectro en comparación con la señal donde los 9 ciclos estaban presentes? ¿Y respecto a la que solo había 1 ciclo?"
   ]
  },
  {
   "cell_type": "markdown",
   "metadata": {},
   "source": [
    "<div class=\"alert alert-block alert-warning\">\n",
    "<b>Respuesta:</b> Escriba aquí su respuesta.\n",
    "</div>"
   ]
  },
  {
   "cell_type": "markdown",
   "metadata": {},
   "source": [
    "<table width=\"80%\" cellpadding=\"7\" cellspacing=\"0\">\n",
    "\t<col width=\"50%\">\n",
    "\t<col width=\"50%\">\n",
    "\t<tbody>\n",
    "\t\t<tr valign=\"top\">\n",
    "\t\t\t<td width=\"296\" style=\"border-top: none; border-bottom: none; border-left: none; border-right: none; padding: 0cm\">\n",
    "\t\t\t\t<p>\n",
    "                    <img src=\"./7.png\" align=\"left\" width=\"100%\" /> \n",
    "                </p>\n",
    "\t\t\t</td>\n",
    "\t\t\t<td width=\"267\" style=\"border-top: none; border-bottom: none; border-left: none; border-right: none; padding-top: 0cm; padding-bottom: 0cm; padding-left: 0.19cm; padding-right: 0cm\">\n",
    "\t\t\t\t<p style=\"margin-bottom: 0cm\"><span lang=\"es-AR\">4.g) Idem anterior, pero cada ciclo con amplitudes (1, 5, 3).</span></font>\n",
    "\t\t\t\t</p>\n",
    "\t\t\t</td>\n",
    "\t\t</tr>\n",
    "\t</tbody>\n",
    "</table>\n",
    "        "
   ]
  },
  {
   "cell_type": "code",
   "execution_count": 38,
   "metadata": {},
   "outputs": [
    {
     "data": {
      "text/html": [
       "<table border=\"1\" class=\"dataframe\">\n",
       "  <thead>\n",
       "    <tr style=\"text-align: right;\">\n",
       "      <th></th>\n",
       "      <th>Energía total</th>\n",
       "      <th>Energía en $f_0$</th>\n",
       "      <th>Máximo de Energía</th>\n",
       "    </tr>\n",
       "  </thead>\n",
       "  <tbody>\n",
       "    <tr>\n",
       "      <th>$f_0$ \\ expr. matemática</th>\n",
       "      <td>$\\sum_{f=0}^{f_S/2} \\lvert X(f) \\rvert ^2$</td>\n",
       "      <td>$ \\lvert X(f_0) \\rvert ^2 $</td>\n",
       "      <td>$ \\mathop{arg\\ max}_f \\{\\lvert X(f) \\rvert ^2\\} $</td>\n",
       "    </tr>\n",
       "    <tr>\n",
       "      <th></th>\n",
       "      <td></td>\n",
       "      <td></td>\n",
       "      <td>$f \\in [0:f_S/2]$</td>\n",
       "    </tr>\n",
       "    <tr>\n",
       "      <th></th>\n",
       "      <td></td>\n",
       "      <td></td>\n",
       "      <td></td>\n",
       "    </tr>\n",
       "    <tr>\n",
       "      <th>predicción</th>\n",
       "      <td></td>\n",
       "      <td></td>\n",
       "      <td></td>\n",
       "    </tr>\n",
       "    <tr>\n",
       "      <th></th>\n",
       "      <td></td>\n",
       "      <td></td>\n",
       "      <td></td>\n",
       "    </tr>\n",
       "    <tr>\n",
       "      <th>simulación</th>\n",
       "      <td></td>\n",
       "      <td></td>\n",
       "      <td></td>\n",
       "    </tr>\n",
       "  </tbody>\n",
       "</table>"
      ],
      "text/plain": [
       "<IPython.core.display.HTML object>"
      ]
     },
     "execution_count": 38,
     "metadata": {},
     "output_type": "execute_result"
    }
   ],
   "source": [
    "#######################################\n",
    "# Tu simulación que genere resultados #\n",
    "#######################################\n",
    "\n",
    "tus_resultados = [ ['$\\sum_{f=0}^{f_S/2} \\lvert X(f) \\rvert ^2$', '$ \\lvert X(f_0) \\rvert ^2 $', '$ \\mathop{arg\\ max}_f \\{\\lvert X(f) \\rvert ^2\\} $'], \n",
    "                   ['',                                     '',                           '$f \\in [0:f_S/2]$'], \n",
    "                  ['', '', ''], \n",
    "                  ['', '', ''], # <-- completar acá\n",
    "                  ['', '', ''], \n",
    "                  ['', '', '']  # <-- completar acá\n",
    "                 ]\n",
    "df = DataFrame(tus_resultados, columns=['Energía total', 'Energía en $f_0$', 'Máximo de Energía'],\n",
    "               index=['$f_0$ \\ expr. matemática', \n",
    "                      '', \n",
    "                      '', \n",
    "                      'predicción', \n",
    "                      '', \n",
    "                      'simulación'])\n",
    "HTML(df.to_html())\n"
   ]
  },
  {
   "cell_type": "markdown",
   "metadata": {},
   "source": [
    "¿Qué energía tiene la componente $f_0$ en el espectro en comparación con el inciso anterior?"
   ]
  },
  {
   "cell_type": "markdown",
   "metadata": {},
   "source": [
    "<div class=\"alert alert-block alert-warning\">\n",
    "<b>Respuesta:</b> Escriba aquí su respuesta.\n",
    "</div>"
   ]
  },
  {
   "cell_type": "markdown",
   "metadata": {},
   "source": [
    "<table width=\"80%\" cellpadding=\"7\" cellspacing=\"0\">\n",
    "\t<col width=\"50%\">\n",
    "\t<col width=\"50%\">\n",
    "\t<tbody>\n",
    "\t\t<tr valign=\"top\">\n",
    "\t\t\t<td width=\"296\" style=\"border-top: none; border-bottom: none; border-left: none; border-right: none; padding: 0cm\">\n",
    "\t\t\t\t<p>\n",
    "                    <img src=\"./8.png\" align=\"left\" width=\"100%\" /> \n",
    "                </p>\n",
    "\t\t\t</td>\n",
    "\t\t\t<td width=\"267\" style=\"border-top: none; border-bottom: none; border-left: none; border-right: none; padding-top: 0cm; padding-bottom: 0cm; padding-left: 0.19cm; padding-right: 0cm\">\n",
    "\t\t\t\t<p style=\"margin-bottom: 0cm\"><span lang=\"es-AR\">4.h) Idem patrón anterior, pero repetido 3 veces.</span></font>\n",
    "\t\t\t\t</p>\n",
    "\t\t\t</td>\n",
    "\t\t</tr>\n",
    "\t</tbody>\n",
    "</table>\n",
    "        "
   ]
  },
  {
   "cell_type": "code",
   "execution_count": 39,
   "metadata": {},
   "outputs": [
    {
     "data": {
      "text/html": [
       "<table border=\"1\" class=\"dataframe\">\n",
       "  <thead>\n",
       "    <tr style=\"text-align: right;\">\n",
       "      <th></th>\n",
       "      <th>Energía total</th>\n",
       "      <th>Energía en $f_0$</th>\n",
       "      <th>Máximo de Energía</th>\n",
       "    </tr>\n",
       "  </thead>\n",
       "  <tbody>\n",
       "    <tr>\n",
       "      <th>$f_0$ \\ expr. matemática</th>\n",
       "      <td>$\\sum_{f=0}^{f_S/2} \\lvert X(f) \\rvert ^2$</td>\n",
       "      <td>$ \\lvert X(f_0) \\rvert ^2 $</td>\n",
       "      <td>$ \\mathop{arg\\ max}_f \\{\\lvert X(f) \\rvert ^2\\} $</td>\n",
       "    </tr>\n",
       "    <tr>\n",
       "      <th></th>\n",
       "      <td></td>\n",
       "      <td></td>\n",
       "      <td>$f \\in [0:f_S/2]$</td>\n",
       "    </tr>\n",
       "    <tr>\n",
       "      <th></th>\n",
       "      <td></td>\n",
       "      <td></td>\n",
       "      <td></td>\n",
       "    </tr>\n",
       "    <tr>\n",
       "      <th>predicción</th>\n",
       "      <td></td>\n",
       "      <td></td>\n",
       "      <td></td>\n",
       "    </tr>\n",
       "    <tr>\n",
       "      <th></th>\n",
       "      <td></td>\n",
       "      <td></td>\n",
       "      <td></td>\n",
       "    </tr>\n",
       "    <tr>\n",
       "      <th>simulación</th>\n",
       "      <td></td>\n",
       "      <td></td>\n",
       "      <td></td>\n",
       "    </tr>\n",
       "  </tbody>\n",
       "</table>"
      ],
      "text/plain": [
       "<IPython.core.display.HTML object>"
      ]
     },
     "execution_count": 39,
     "metadata": {},
     "output_type": "execute_result"
    }
   ],
   "source": [
    "#######################################\n",
    "# Tu simulación que genere resultados #\n",
    "#######################################\n",
    "\n",
    "tus_resultados = [ ['$\\sum_{f=0}^{f_S/2} \\lvert X(f) \\rvert ^2$', '$ \\lvert X(f_0) \\rvert ^2 $', '$ \\mathop{arg\\ max}_f \\{\\lvert X(f) \\rvert ^2\\} $'], \n",
    "                   ['',                                     '',                           '$f \\in [0:f_S/2]$'], \n",
    "                  ['', '', ''], \n",
    "                  ['', '', ''], # <-- completar acá\n",
    "                  ['', '', ''], \n",
    "                  ['', '', '']  # <-- completar acá\n",
    "                 ]\n",
    "df = DataFrame(tus_resultados, columns=['Energía total', 'Energía en $f_0$', 'Máximo de Energía'],\n",
    "               index=['$f_0$ \\ expr. matemática', \n",
    "                      '', \n",
    "                      '', \n",
    "                      'predicción', \n",
    "                      '', \n",
    "                      'simulación'])\n",
    "HTML(df.to_html())\n"
   ]
  },
  {
   "cell_type": "markdown",
   "metadata": {},
   "source": [
    "¿Qué energía tiene la componente $f_0$ en el espectro en comparación con el inciso anterior? ¿Y respecto al que estaban los 9 ciclos presentes pero con la misma amplitud?"
   ]
  },
  {
   "cell_type": "markdown",
   "metadata": {},
   "source": [
    "<div class=\"alert alert-block alert-warning\">\n",
    "<b>Respuesta:</b> Escriba aquí su respuesta.\n",
    "</div>"
   ]
  },
  {
   "cell_type": "markdown",
   "metadata": {},
   "source": [
    "<table width=\"80%\" cellpadding=\"7\" cellspacing=\"0\">\n",
    "\t<col width=\"50%\">\n",
    "\t<col width=\"50%\">\n",
    "\t<tbody>\n",
    "\t\t<tr valign=\"top\">\n",
    "\t\t\t<td width=\"296\" style=\"border-top: none; border-bottom: none; border-left: none; border-right: none; padding: 0cm\">\n",
    "\t\t\t\t<p>\n",
    "                    <img src=\"./9.png\" align=\"left\" width=\"100%\" /> \n",
    "                </p>\n",
    "\t\t\t</td>\n",
    "\t\t\t<td width=\"267\" style=\"border-top: none; border-bottom: none; border-left: none; border-right: none; padding-top: 0cm; padding-bottom: 0cm; padding-left: 0.19cm; padding-right: 0cm\">\n",
    "\t\t\t\t<p style=\"margin-bottom: 0cm\"><span lang=\"es-AR\">4.i) En este caso genere un ciclo de $f_0 = 9 \\cdot f_S/N$, y seguido otro ciclo pero desfasado $\\pi$ radianes.</span></font>\n",
    "\t\t\t\t</p>\n",
    "\t\t\t</td>\n",
    "\t\t</tr>\n",
    "\t</tbody>\n",
    "</table>\n",
    "        "
   ]
  },
  {
   "cell_type": "code",
   "execution_count": 40,
   "metadata": {},
   "outputs": [
    {
     "data": {
      "text/html": [
       "<table border=\"1\" class=\"dataframe\">\n",
       "  <thead>\n",
       "    <tr style=\"text-align: right;\">\n",
       "      <th></th>\n",
       "      <th>Energía total</th>\n",
       "      <th>Energía en $f_0$</th>\n",
       "      <th>Máximo de Energía</th>\n",
       "    </tr>\n",
       "  </thead>\n",
       "  <tbody>\n",
       "    <tr>\n",
       "      <th>$f_0$ \\ expr. matemática</th>\n",
       "      <td>$\\sum_{f=0}^{f_S/2} \\lvert X(f) \\rvert ^2$</td>\n",
       "      <td>$ \\lvert X(f_0) \\rvert ^2 $</td>\n",
       "      <td>$ \\mathop{arg\\ max}_f \\{\\lvert X(f) \\rvert ^2\\} $</td>\n",
       "    </tr>\n",
       "    <tr>\n",
       "      <th></th>\n",
       "      <td></td>\n",
       "      <td></td>\n",
       "      <td>$f \\in [0:f_S/2]$</td>\n",
       "    </tr>\n",
       "    <tr>\n",
       "      <th></th>\n",
       "      <td></td>\n",
       "      <td></td>\n",
       "      <td></td>\n",
       "    </tr>\n",
       "    <tr>\n",
       "      <th>predicción</th>\n",
       "      <td></td>\n",
       "      <td></td>\n",
       "      <td></td>\n",
       "    </tr>\n",
       "    <tr>\n",
       "      <th></th>\n",
       "      <td></td>\n",
       "      <td></td>\n",
       "      <td></td>\n",
       "    </tr>\n",
       "    <tr>\n",
       "      <th>simulación</th>\n",
       "      <td></td>\n",
       "      <td></td>\n",
       "      <td></td>\n",
       "    </tr>\n",
       "  </tbody>\n",
       "</table>"
      ],
      "text/plain": [
       "<IPython.core.display.HTML object>"
      ]
     },
     "execution_count": 40,
     "metadata": {},
     "output_type": "execute_result"
    }
   ],
   "source": [
    "#######################################\n",
    "# Tu simulación que genere resultados #\n",
    "#######################################\n",
    "\n",
    "tus_resultados = [ ['$\\sum_{f=0}^{f_S/2} \\lvert X(f) \\rvert ^2$', '$ \\lvert X(f_0) \\rvert ^2 $', '$ \\mathop{arg\\ max}_f \\{\\lvert X(f) \\rvert ^2\\} $'], \n",
    "                   ['',                                     '',                           '$f \\in [0:f_S/2]$'], \n",
    "                  ['', '', ''], \n",
    "                  ['', '', ''], # <-- completar acá\n",
    "                  ['', '', ''], \n",
    "                  ['', '', '']  # <-- completar acá\n",
    "                 ]\n",
    "df = DataFrame(tus_resultados, columns=['Energía total', 'Energía en $f_0$', 'Máximo de Energía'],\n",
    "               index=['$f_0$ \\ expr. matemática', \n",
    "                      '', \n",
    "                      '', \n",
    "                      'predicción', \n",
    "                      '', \n",
    "                      'simulación'])\n",
    "HTML(df.to_html())\n"
   ]
  },
  {
   "cell_type": "markdown",
   "metadata": {},
   "source": [
    "¿Qué energía tiene la componente $f_0$ en el espectro en comparación con el que estaba un solo ciclo presente?"
   ]
  },
  {
   "cell_type": "markdown",
   "metadata": {},
   "source": [
    "<div class=\"alert alert-block alert-warning\">\n",
    "<b>Respuesta:</b> Escriba aquí su respuesta.\n",
    "</div>"
   ]
  },
  {
   "cell_type": "markdown",
   "metadata": {},
   "source": [
    "Luego de realizar la experimentación y observando los resultados obtenidos discuta si es fiable o no medir en el dominio de Fourier, por medio de la FFT los siguientes aspectos de una señal:\n",
    "\n",
    "    • Energía\n",
    "    • Contenido espectral\n",
    "    • Energía de un determinado ancho de banda o componente espectral\n",
    "    • Localización temporal de un determinado componente espectral."
   ]
  },
  {
   "cell_type": "markdown",
   "metadata": {},
   "source": [
    "<div class=\"alert alert-block alert-warning\">\n",
    "<b>Respuesta:</b> Escriba aquí su respuesta.\n",
    "</div>"
   ]
  },
  {
   "cell_type": "markdown",
   "metadata": {},
   "source": [
    "<div class=\"alert alert-block alert-info\">\n",
    "<b>5)</b> \n",
    "Simule el efecto de cuantizar una señal continua en el tiempo mediante un conversor analógico digital (ADC).\n",
    "</div>"
   ]
  },
  {
   "cell_type": "markdown",
   "metadata": {},
   "source": [
    "Para ello analice señales determinísticas, por ejemplo una senoidal de **energía normalizada** y frecuencia $f_0$, y otras que varíen de forma más aleatoria y por lo tanto, representativa de una señal real, por ejemplo añadiendo ruido. Es decir que la señal *real* simulada será \n",
    "\n",
    "$$s_R = s + n$$\n",
    "\n",
    "donde la señal $n$ debe tener una energía de $1/10$.\n",
    "           \n",
    "Puede simular una señal continua (aproximadamente para los fines prácticos), mediante una señal muestreada a una $f^1_S$ muy alta en comparación con las $f_S$  que quiere estudiar, y un tipo de dato de doble precisión (double o float de 64 bits). De esta manera se asegura una grilla de cuantización (en tiempo y amplitud) mucho más densa que la que se va a simular. Se pide cuantizar a palabras de 4, 8 y 16 bits, obteniendo\n",
    "\n",
    "$$ s_Q = \\mathop{Q}_i \\{s_R\\} \\quad i \\in (4, 8, 16) $$\n",
    "\n",
    "Siendo $\\mathop{Q}_i$ la función **no lineal** responsable de la cuantización a *i-* bits de la señal real $s_R$. Describa el ruido de cuantización \n",
    "\n",
    "$$ e = s_Q - s_R$$\n",
    "\n",
    "para las 3 situaciones antedichas siguiendo las siguientes consignas.\n",
    "     \n"
   ]
  },
  {
   "cell_type": "markdown",
   "metadata": {},
   "source": [
    "<div class=\"alert alert-block alert-info\">\n",
    "<b>5.a)</b> \n",
    "La señal temporal $e$ y su espectro $E$.\n",
    "</div>"
   ]
  },
  {
   "cell_type": "code",
   "execution_count": 41,
   "metadata": {},
   "outputs": [
    {
     "data": {
      "text/html": [
       "<table border=\"1\" class=\"dataframe\">\n",
       "  <thead>\n",
       "    <tr style=\"text-align: right;\">\n",
       "      <th></th>\n",
       "      <th>Energía total</th>\n",
       "      <th>Energía total Q</th>\n",
       "      <th>Energía total $e$</th>\n",
       "    </tr>\n",
       "  </thead>\n",
       "  <tbody>\n",
       "    <tr>\n",
       "      <th>$f_0$ \\ expr. matemática</th>\n",
       "      <td>$\\sum_{f=0}^{f_S/2} \\lvert S_R(f) \\rvert ^2$</td>\n",
       "      <td>$\\sum_{f=0}^{f_S/2} \\lvert S_Q(f) \\rvert ^2$</td>\n",
       "      <td>$\\sum_{f=0}^{f_S/2} \\lvert e(f) \\rvert ^2$</td>\n",
       "    </tr>\n",
       "    <tr>\n",
       "      <th></th>\n",
       "      <td></td>\n",
       "      <td></td>\n",
       "      <td></td>\n",
       "    </tr>\n",
       "    <tr>\n",
       "      <th>4 bits</th>\n",
       "      <td></td>\n",
       "      <td></td>\n",
       "      <td></td>\n",
       "    </tr>\n",
       "    <tr>\n",
       "      <th>8 bits</th>\n",
       "      <td></td>\n",
       "      <td></td>\n",
       "      <td></td>\n",
       "    </tr>\n",
       "    <tr>\n",
       "      <th>16 bits</th>\n",
       "      <td></td>\n",
       "      <td></td>\n",
       "      <td></td>\n",
       "    </tr>\n",
       "  </tbody>\n",
       "</table>"
      ],
      "text/plain": [
       "<IPython.core.display.HTML object>"
      ]
     },
     "execution_count": 41,
     "metadata": {},
     "output_type": "execute_result"
    }
   ],
   "source": [
    "#######################################\n",
    "# Tu simulación que genere resultados #\n",
    "#######################################\n",
    "\n",
    "tus_resultados = [ ['$\\sum_{f=0}^{f_S/2} \\lvert S_R(f) \\rvert ^2$', '$\\sum_{f=0}^{f_S/2} \\lvert S_Q(f) \\rvert ^2$', '$\\sum_{f=0}^{f_S/2} \\lvert e(f) \\rvert ^2$' ], \n",
    "                   ['',                                             '',                                             ''                              ], \n",
    "                   ['', '', ''], # <-- completar acá\n",
    "                   ['', '', ''], # <-- completar acá\n",
    "                   ['', '', ''], # <-- completar acá\n",
    "                 ]\n",
    "df = DataFrame(tus_resultados, columns=['Energía total', 'Energía total Q', 'Energía total $e$'],\n",
    "               index=['$f_0$ \\ expr. matemática', \n",
    "                      '', \n",
    "                      '4 bits', \n",
    "                      '8 bits', \n",
    "                      '16 bits'\n",
    "                      ])\n",
    "HTML(df.to_html())\n"
   ]
  },
  {
   "cell_type": "markdown",
   "metadata": {},
   "source": [
    "<div class=\"alert alert-block alert-info\">\n",
    "<b>5.b)</b> El histograma de la señal $e_i$ para cada tamaño de palabra.\n",
    "</div>"
   ]
  },
  {
   "cell_type": "code",
   "execution_count": 42,
   "metadata": {},
   "outputs": [],
   "source": [
    "#####################################\n",
    "# Tu simulación que genere gráficas #\n",
    "#####################################\n"
   ]
  },
  {
   "cell_type": "markdown",
   "metadata": {},
   "source": [
    "¿Qué información podemos obtener de esta forma de analizar la señal $e_i$?"
   ]
  },
  {
   "cell_type": "markdown",
   "metadata": {},
   "source": [
    "<div class=\"alert alert-block alert-warning\">\n",
    "<b>Respuesta:</b> Escriba aquí su respuesta.\n",
    "</div>"
   ]
  },
  {
   "cell_type": "markdown",
   "metadata": {},
   "source": [
    "<div class=\"alert alert-block alert-info\">\n",
    "<b>5.c)</b> Una descripción de la señal $e_i$, por medio del **valor medio**, su valor **RMS** y su energía **energía**\n",
    "</div>"
   ]
  },
  {
   "cell_type": "code",
   "execution_count": 43,
   "metadata": {},
   "outputs": [
    {
     "data": {
      "text/html": [
       "<table border=\"1\" class=\"dataframe\">\n",
       "  <thead>\n",
       "    <tr style=\"text-align: right;\">\n",
       "      <th></th>\n",
       "      <th>Valor medio</th>\n",
       "      <th>RMS</th>\n",
       "      <th>Energía</th>\n",
       "    </tr>\n",
       "  </thead>\n",
       "  <tbody>\n",
       "    <tr>\n",
       "      <th>4 bits</th>\n",
       "      <td></td>\n",
       "      <td></td>\n",
       "      <td></td>\n",
       "    </tr>\n",
       "    <tr>\n",
       "      <th>8 bits</th>\n",
       "      <td></td>\n",
       "      <td></td>\n",
       "      <td></td>\n",
       "    </tr>\n",
       "    <tr>\n",
       "      <th>16 bits</th>\n",
       "      <td></td>\n",
       "      <td></td>\n",
       "      <td></td>\n",
       "    </tr>\n",
       "  </tbody>\n",
       "</table>"
      ],
      "text/plain": [
       "<IPython.core.display.HTML object>"
      ]
     },
     "execution_count": 43,
     "metadata": {},
     "output_type": "execute_result"
    }
   ],
   "source": [
    "#######################################\n",
    "# Tu simulación que genere resultados #\n",
    "#######################################\n",
    "\n",
    "tus_resultados = [ \n",
    "                   ['', '', ''], # <-- completar acá\n",
    "                   ['', '', ''], # <-- completar acá\n",
    "                   ['', '', ''], # <-- completar acá\n",
    "                 ]\n",
    "df = DataFrame(tus_resultados, columns=['Valor medio', 'RMS', 'Energía'],\n",
    "               index=[\n",
    "                      '4 bits', \n",
    "                      '8 bits', \n",
    "                      '16 bits'\n",
    "                      ])\n",
    "HTML(df.to_html())\n"
   ]
  },
  {
   "cell_type": "markdown",
   "metadata": {},
   "source": [
    "<div class=\"alert alert-block alert-info\">\n",
    "<b>5.d)</b> Una descripción **estadística** de la señal $e_i$, por medio de su **media**, su **desvío estándard** y su energía **varianza**.\n",
    "</div>"
   ]
  },
  {
   "cell_type": "code",
   "execution_count": 44,
   "metadata": {},
   "outputs": [
    {
     "data": {
      "text/html": [
       "<table border=\"1\" class=\"dataframe\">\n",
       "  <thead>\n",
       "    <tr style=\"text-align: right;\">\n",
       "      <th></th>\n",
       "      <th>Media</th>\n",
       "      <th>Desvío estándard</th>\n",
       "      <th>Varianza</th>\n",
       "    </tr>\n",
       "  </thead>\n",
       "  <tbody>\n",
       "    <tr>\n",
       "      <th>4 bits</th>\n",
       "      <td></td>\n",
       "      <td></td>\n",
       "      <td></td>\n",
       "    </tr>\n",
       "    <tr>\n",
       "      <th>8 bits</th>\n",
       "      <td></td>\n",
       "      <td></td>\n",
       "      <td></td>\n",
       "    </tr>\n",
       "    <tr>\n",
       "      <th>16 bits</th>\n",
       "      <td></td>\n",
       "      <td></td>\n",
       "      <td></td>\n",
       "    </tr>\n",
       "  </tbody>\n",
       "</table>"
      ],
      "text/plain": [
       "<IPython.core.display.HTML object>"
      ]
     },
     "execution_count": 44,
     "metadata": {},
     "output_type": "execute_result"
    }
   ],
   "source": [
    "#######################################\n",
    "# Tu simulación que genere resultados #\n",
    "#######################################\n",
    "\n",
    "tus_resultados = [ \n",
    "                   ['', '', ''], # <-- completar acá\n",
    "                   ['', '', ''], # <-- completar acá\n",
    "                   ['', '', ''], # <-- completar acá\n",
    "                 ]\n",
    "df = DataFrame(tus_resultados, columns=['Media', 'Desvío estándard', 'Varianza'],\n",
    "               index=[\n",
    "                      '4 bits', \n",
    "                      '8 bits', \n",
    "                      '16 bits'\n",
    "                      ])\n",
    "HTML(df.to_html())\n"
   ]
  },
  {
   "cell_type": "markdown",
   "metadata": {},
   "source": [
    "Discutir las similitudes y diferencias con los parámetros calculados en **c)** y **d)**. "
   ]
  },
  {
   "cell_type": "markdown",
   "metadata": {},
   "source": [
    "<div class=\"alert alert-block alert-warning\">\n",
    "<b>Respuesta:</b> Escriba aquí su respuesta.\n",
    "</div>"
   ]
  }
 ],
 "metadata": {
  "kernelspec": {
   "display_name": "Python 3",
   "language": "python",
   "name": "python3"
  },
  "language_info": {
   "codemirror_mode": {
    "name": "ipython",
    "version": 3
   },
   "file_extension": ".py",
   "mimetype": "text/x-python",
   "name": "python",
   "nbconvert_exporter": "python",
   "pygments_lexer": "ipython3",
   "version": "3.7.1"
  }
 },
 "nbformat": 4,
 "nbformat_minor": 2
}
